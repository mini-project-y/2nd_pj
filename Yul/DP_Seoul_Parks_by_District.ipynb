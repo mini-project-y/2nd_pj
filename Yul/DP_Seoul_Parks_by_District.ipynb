{
 "cells": [
  {
   "cell_type": "code",
   "execution_count": 1,
   "metadata": {},
   "outputs": [],
   "source": [
    "import pandas as pd\n",
    "import numpy as np\n",
    "import matplotlib.pyplot as plt\n",
    "import seaborn as sns\n",
    "import geopandas as gpd\n",
    "from shapely.geometry import Point\n",
    "\n",
    "# 맷플롯립 한글 사용 가능\n",
    "import matplotlib.pyplot as plt\n",
    "plt.rcParams['font.family'] ='Malgun Gothic'\n",
    "plt.rcParams['axes.unicode_minus'] =False"
   ]
  },
  {
   "cell_type": "markdown",
   "metadata": {},
   "source": [
    "# 1. 행정구별 공원 갯수"
   ]
  },
  {
   "cell_type": "markdown",
   "metadata": {},
   "source": [
    "### 1-1. 파일 불러오기"
   ]
  },
  {
   "cell_type": "code",
   "execution_count": 2,
   "metadata": {},
   "outputs": [],
   "source": [
    "# 상대 경로 설정\n",
    "park_file = '../6.Infrastructure/공원좌표.csv'\n",
    "boundary_file = '../4.Public_transportation/LARD_ADM_SECT_SGG_gu/LARD_ADM_SECT_SGG_11_202405.shp'\n",
    "\n",
    "# 데이터 불러오기\n",
    "gdf = gpd.read_file(boundary_file)\n",
    "park_df = pd.read_csv(park_file, encoding=\"CP949\")"
   ]
  },
  {
   "cell_type": "markdown",
   "metadata": {},
   "source": [
    "### 1-2. 공원 데이터를 GeoDataFrame으로 변환"
   ]
  },
  {
   "cell_type": "code",
   "execution_count": 3,
   "metadata": {},
   "outputs": [],
   "source": [
    "# 공원 데이터를 GeoDataFrame으로 변환 (WGS84 좌표계)\n",
    "park_geometry = gpd.points_from_xy(park_df['X좌표(WGS84)'], park_df['Y좌표(WGS84)'])\n",
    "park_gdf = gpd.GeoDataFrame(park_df, geometry=park_geometry, crs='EPSG:4326')  # WGS84 좌표계"
   ]
  },
  {
   "cell_type": "markdown",
   "metadata": {},
   "source": [
    "### 1-3. 공원 데이터 좌표계를 행정구 데이터 좌표계로 변환"
   ]
  },
  {
   "cell_type": "code",
   "execution_count": 4,
   "metadata": {},
   "outputs": [],
   "source": [
    "# 공원 데이터 좌표계를 행정구 데이터 좌표계로 변환\n",
    "park_gdf = park_gdf.to_crs(gdf.crs)"
   ]
  },
  {
   "cell_type": "markdown",
   "metadata": {},
   "source": [
    "### 1-4. 공원과 행정구 경계 데이터 결합"
   ]
  },
  {
   "cell_type": "code",
   "execution_count": 5,
   "metadata": {},
   "outputs": [],
   "source": [
    "# 공원과 행정구 경계 데이터 결합\n",
    "joined_gdf = gpd.sjoin(park_gdf, gdf, how='inner', predicate='within')"
   ]
  },
  {
   "cell_type": "markdown",
   "metadata": {},
   "source": [
    "### 1-5. 행정구별 공원 개수 계산 및 결과 출력"
   ]
  },
  {
   "cell_type": "code",
   "execution_count": 6,
   "metadata": {},
   "outputs": [
    {
     "name": "stdout",
     "output_type": "stream",
     "text": [
      "        SGG_NM  공원_개수\n",
      "0    서울특별시 강남구      5\n",
      "1    서울특별시 강동구      6\n",
      "2    서울특별시 강북구      3\n",
      "3    서울특별시 강서구      9\n",
      "4    서울특별시 관악구      2\n",
      "5    서울특별시 광진구      2\n",
      "6    서울특별시 구로구      4\n",
      "7    서울특별시 금천구      4\n",
      "8    서울특별시 도봉구      6\n",
      "9   서울특별시 동대문구      4\n",
      "10   서울특별시 동작구      6\n",
      "11   서울특별시 마포구      4\n",
      "12  서울특별시 서대문구      4\n",
      "13   서울특별시 서초구      4\n",
      "14   서울특별시 성동구      5\n",
      "15   서울특별시 성북구      4\n",
      "16   서울특별시 송파구      7\n",
      "17   서울특별시 양천구      5\n",
      "18  서울특별시 영등포구      5\n",
      "19   서울특별시 용산구      3\n",
      "20   서울특별시 은평구      5\n",
      "21   서울특별시 종로구     11\n",
      "22    서울특별시 중구      2\n",
      "23   서울특별시 중랑구      3\n"
     ]
    }
   ],
   "source": [
    "# 행정구별 공원 개수 계산\n",
    "park_count = joined_gdf.groupby('SGG_NM').size().reset_index(name='공원_개수')\n",
    "\n",
    "# 결과 출력\n",
    "print(park_count)"
   ]
  },
  {
   "cell_type": "markdown",
   "metadata": {},
   "source": [
    "### 1-6. 결과 저장"
   ]
  },
  {
   "cell_type": "code",
   "execution_count": 11,
   "metadata": {},
   "outputs": [],
   "source": [
    "# 결과 저장\n",
    "# UTF-8-SIG로 저장\n",
    "park_count.to_csv('Data_Preprocessing/6_Park_count_by_district.csv', \n",
    "                  index=False, encoding='utf-8-sig')"
   ]
  }
 ],
 "metadata": {
  "kernelspec": {
   "display_name": "myenv",
   "language": "python",
   "name": "python3"
  },
  "language_info": {
   "codemirror_mode": {
    "name": "ipython",
    "version": 3
   },
   "file_extension": ".py",
   "mimetype": "text/x-python",
   "name": "python",
   "nbconvert_exporter": "python",
   "pygments_lexer": "ipython3",
   "version": "3.9.20"
  }
 },
 "nbformat": 4,
 "nbformat_minor": 2
}
