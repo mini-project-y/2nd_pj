{
 "cells": [
  {
   "cell_type": "code",
   "execution_count": 37,
   "metadata": {},
   "outputs": [],
   "source": [
    "import pandas as pd\n",
    "import numpy as np\n",
    "import matplotlib.pyplot as plt\n",
    "import seaborn as sns\n",
    "\n",
    "# 맷플롯립 한글 사용 가능\n",
    "import matplotlib.pyplot as plt\n",
    "plt.rcParams['font.family'] ='Malgun Gothic'\n",
    "plt.rcParams['axes.unicode_minus'] =False"
   ]
  },
  {
   "cell_type": "code",
   "execution_count": 52,
   "metadata": {},
   "outputs": [
    {
     "name": "stdout",
     "output_type": "stream",
     "text": [
      "<class 'pandas.core.frame.DataFrame'>\n",
      "RangeIndex: 5148 entries, 0 to 5147\n",
      "Data columns (total 8 columns):\n",
      " #   Column          Non-Null Count  Dtype \n",
      "---  ------          --------------  ----- \n",
      " 0   month           5148 non-null   int64 \n",
      " 1   line            5148 non-null   object\n",
      " 2   station_name    5148 non-null   object\n",
      " 3   paid_boarding   5148 non-null   int64 \n",
      " 4   free_boarding   5148 non-null   int64 \n",
      " 5   paid_alighting  5148 non-null   int64 \n",
      " 6   free_alighting  5148 non-null   int64 \n",
      " 7   data_date       5148 non-null   int64 \n",
      "dtypes: int64(6), object(2)\n",
      "memory usage: 321.9+ KB\n",
      "<class 'pandas.core.frame.DataFrame'>\n",
      "RangeIndex: 274 entries, 0 to 273\n",
      "Data columns (total 3 columns):\n",
      " #   Column        Non-Null Count  Dtype \n",
      "---  ------        --------------  ----- \n",
      " 0   line          274 non-null    object\n",
      " 1   station_name  274 non-null    object\n",
      " 2   district      274 non-null    object\n",
      "dtypes: object(3)\n",
      "memory usage: 6.5+ KB\n"
     ]
    },
    {
     "data": {
      "text/plain": [
       "(None, None)"
      ]
     },
     "execution_count": 52,
     "metadata": {},
     "output_type": "execute_result"
    }
   ],
   "source": [
    "sp_2015_df = pd.read_csv('../4.Public_transportation/Subway_Number_of_passengers2015.csv',\n",
    "            encoding = 'CP949')\n",
    "ss_df = pd.read_csv('Data_Preprocessing/4_seoul_stations.csv')\n",
    "sp_2015_df.columns = ['month', 'line', 'station_name', \n",
    "                      'paid_boarding', 'free_boarding', \n",
    "                      'paid_alighting', 'free_alighting', 'data_date']\n",
    "sp_2015_df.info(), ss_df.info()"
   ]
  },
  {
   "cell_type": "code",
   "execution_count": 53,
   "metadata": {},
   "outputs": [
    {
     "name": "stdout",
     "output_type": "stream",
     "text": [
      "<class 'pandas.core.frame.DataFrame'>\n",
      "RangeIndex: 3258 entries, 0 to 3257\n",
      "Data columns (total 8 columns):\n",
      " #   Column          Non-Null Count  Dtype \n",
      "---  ------          --------------  ----- \n",
      " 0   month           3258 non-null   int64 \n",
      " 1   line            3258 non-null   object\n",
      " 2   station_name    3258 non-null   object\n",
      " 3   paid_boarding   3258 non-null   int64 \n",
      " 4   free_boarding   3258 non-null   int64 \n",
      " 5   paid_alighting  3258 non-null   int64 \n",
      " 6   free_alighting  3258 non-null   int64 \n",
      " 7   district        3258 non-null   object\n",
      "dtypes: int64(5), object(3)\n",
      "memory usage: 203.8+ KB\n"
     ]
    },
    {
     "data": {
      "text/html": [
       "<div>\n",
       "<style scoped>\n",
       "    .dataframe tbody tr th:only-of-type {\n",
       "        vertical-align: middle;\n",
       "    }\n",
       "\n",
       "    .dataframe tbody tr th {\n",
       "        vertical-align: top;\n",
       "    }\n",
       "\n",
       "    .dataframe thead th {\n",
       "        text-align: right;\n",
       "    }\n",
       "</style>\n",
       "<table border=\"1\" class=\"dataframe\">\n",
       "  <thead>\n",
       "    <tr style=\"text-align: right;\">\n",
       "      <th></th>\n",
       "      <th>month</th>\n",
       "      <th>line</th>\n",
       "      <th>station_name</th>\n",
       "      <th>paid_boarding</th>\n",
       "      <th>free_boarding</th>\n",
       "      <th>paid_alighting</th>\n",
       "      <th>free_alighting</th>\n",
       "      <th>district</th>\n",
       "    </tr>\n",
       "  </thead>\n",
       "  <tbody>\n",
       "    <tr>\n",
       "      <th>0</th>\n",
       "      <td>201512</td>\n",
       "      <td>1호선</td>\n",
       "      <td>종로5가</td>\n",
       "      <td>630988</td>\n",
       "      <td>276092</td>\n",
       "      <td>647340</td>\n",
       "      <td>266173</td>\n",
       "      <td>종로구</td>\n",
       "    </tr>\n",
       "    <tr>\n",
       "      <th>1</th>\n",
       "      <td>201512</td>\n",
       "      <td>1호선</td>\n",
       "      <td>제기동</td>\n",
       "      <td>305975</td>\n",
       "      <td>311257</td>\n",
       "      <td>300744</td>\n",
       "      <td>327630</td>\n",
       "      <td>동대문구</td>\n",
       "    </tr>\n",
       "    <tr>\n",
       "      <th>2</th>\n",
       "      <td>201512</td>\n",
       "      <td>1호선</td>\n",
       "      <td>신설동</td>\n",
       "      <td>403786</td>\n",
       "      <td>130091</td>\n",
       "      <td>391341</td>\n",
       "      <td>124825</td>\n",
       "      <td>동대문구</td>\n",
       "    </tr>\n",
       "    <tr>\n",
       "      <th>3</th>\n",
       "      <td>201512</td>\n",
       "      <td>1호선</td>\n",
       "      <td>신설동</td>\n",
       "      <td>403786</td>\n",
       "      <td>130091</td>\n",
       "      <td>391341</td>\n",
       "      <td>124825</td>\n",
       "      <td>동대문구</td>\n",
       "    </tr>\n",
       "    <tr>\n",
       "      <th>4</th>\n",
       "      <td>201512</td>\n",
       "      <td>1호선</td>\n",
       "      <td>동대문</td>\n",
       "      <td>377067</td>\n",
       "      <td>144125</td>\n",
       "      <td>452903</td>\n",
       "      <td>152712</td>\n",
       "      <td>종로구</td>\n",
       "    </tr>\n",
       "  </tbody>\n",
       "</table>\n",
       "</div>"
      ],
      "text/plain": [
       "    month line station_name  paid_boarding  free_boarding  paid_alighting  \\\n",
       "0  201512  1호선         종로5가         630988         276092          647340   \n",
       "1  201512  1호선          제기동         305975         311257          300744   \n",
       "2  201512  1호선          신설동         403786         130091          391341   \n",
       "3  201512  1호선          신설동         403786         130091          391341   \n",
       "4  201512  1호선          동대문         377067         144125          452903   \n",
       "\n",
       "   free_alighting district  \n",
       "0          266173      종로구  \n",
       "1          327630     동대문구  \n",
       "2          124825     동대문구  \n",
       "3          124825     동대문구  \n",
       "4          152712      종로구  "
      ]
     },
     "execution_count": 53,
     "metadata": {},
     "output_type": "execute_result"
    }
   ],
   "source": [
    "merged_df = pd.merge(sp_2015_df, ss_df, how=\"inner\", on=\"station_name\")\n",
    "merged_df = merged_df[['month', 'line_x', 'station_name', 'paid_boarding', 'free_boarding',\n",
    "                       'paid_alighting', 'free_alighting', 'district']]\n",
    "merged_df.columns = ['month', 'line', 'station_name', 'paid_boarding', 'free_boarding',\n",
    "                     'paid_alighting', 'free_alighting', 'district']\n",
    "merged_df.info()\n",
    "merged_df.head()"
   ]
  },
  {
   "cell_type": "code",
   "execution_count": null,
   "metadata": {},
   "outputs": [
    {
     "name": "stdout",
     "output_type": "stream",
     "text": [
      "<class 'pandas.core.frame.DataFrame'>\n",
      "RangeIndex: 3258 entries, 0 to 3257\n",
      "Data columns (total 12 columns):\n",
      " #   Column                Non-Null Count  Dtype         \n",
      "---  ------                --------------  -----         \n",
      " 0   month                 3258 non-null   datetime64[ns]\n",
      " 1   district              3258 non-null   object        \n",
      " 2   paid_boarding         3258 non-null   int64         \n",
      " 3   paid_boarding_ratio   3258 non-null   float64       \n",
      " 4   free_boarding         3258 non-null   int64         \n",
      " 5   free_boarding_ratio   3258 non-null   float64       \n",
      " 6   total_boarding        3258 non-null   int64         \n",
      " 7   paid_alighting        3258 non-null   int64         \n",
      " 8   paid_alighting_ratio  3194 non-null   float64       \n",
      " 9   free_alighting        3258 non-null   int64         \n",
      " 10  free_alighting_ratio  3194 non-null   float64       \n",
      " 11  total_alighting       3258 non-null   int64         \n",
      "dtypes: datetime64[ns](1), float64(4), int64(6), object(1)\n",
      "memory usage: 305.6+ KB\n"
     ]
    },
    {
     "data": {
      "text/plain": [
       "(       month district  paid_boarding  paid_boarding_ratio  free_boarding  \\\n",
       " 0 2015-12-01      종로구         630988              0.69563         276092   \n",
       " 1 2015-12-01     동대문구         305975              0.49572         311257   \n",
       " 2 2015-12-01     동대문구         403786              0.75633         130091   \n",
       " 3 2015-12-01     동대문구         403786              0.75633         130091   \n",
       " 4 2015-12-01      종로구         377067              0.72347         144125   \n",
       " \n",
       "    free_boarding_ratio  total_boarding  paid_alighting  paid_alighting_ratio  \\\n",
       " 0              0.30437          907080          647340               0.70863   \n",
       " 1              0.50428          617232          300744               0.47861   \n",
       " 2              0.24367          533877          391341               0.75817   \n",
       " 3              0.24367          533877          391341               0.75817   \n",
       " 4              0.27653          521192          452903               0.74784   \n",
       " \n",
       "    free_alighting  free_alighting_ratio  total_alighting  \n",
       " 0          266173               0.29137           913513  \n",
       " 1          327630               0.52139           628374  \n",
       " 2          124825               0.24183           516166  \n",
       " 3          124825               0.24183           516166  \n",
       " 4          152712               0.25216           605615  ,\n",
       " None)"
      ]
     },
     "execution_count": 54,
     "metadata": {},
     "output_type": "execute_result"
    }
   ],
   "source": [
    "merged_df['total_boarding'] = merged_df['paid_boarding'] + merged_df['free_boarding']\n",
    "merged_df['total_alighting'] = merged_df['paid_alighting'] + merged_df['free_alighting']\n",
    "\n",
    "merged_df['paid_boarding_ratio'] = merged_df['paid_boarding'] / merged_df['total_boarding']\n",
    "merged_df['free_boarding_ratio'] = merged_df['free_boarding'] / merged_df['total_boarding']\n",
    "merged_df['paid_alighting_ratio'] = merged_df['paid_alighting'] / merged_df['total_alighting']\n",
    "merged_df['free_alighting_ratio'] = merged_df['free_alighting'] / merged_df['total_alighting']\n",
    "\n",
    "merged_df = merged_df[['month', 'district',\n",
    "                       'paid_boarding', 'paid_boarding_ratio',\n",
    "                       'free_boarding', 'free_boarding_ratio', 'total_boarding', \n",
    "                       'paid_alighting', 'paid_alighting_ratio',\n",
    "                       'free_alighting', 'free_alighting_ratio', 'total_alighting']]\n",
    "\n",
    "merged_df['month'] = pd.to_datetime(merged_df['month'], format='%Y%m')\n",
    "merged_df['year'] = merged_df['month'].dt.year"
   ]
  },
  {
   "cell_type": "code",
   "execution_count": null,
   "metadata": {},
   "outputs": [
    {
     "data": {
      "text/plain": [
       "(       month district  paid_boarding  paid_boarding_ratio  free_boarding  \\\n",
       " 0 2015-01-01      강남구   751003.93750              0.87258    82954.62500   \n",
       " 1 2015-01-01      강동구   298884.87500              0.81054    66208.50000   \n",
       " 2 2015-01-01      강북구  1110438.00000              0.81925   244990.00000   \n",
       " 3 2015-01-01      강서구   322735.80000              0.84396    59271.70000   \n",
       " 4 2015-01-01      관악구  1275175.00000              0.84406   193742.50000   \n",
       " \n",
       "    free_boarding_ratio  total_boarding  paid_alighting  paid_alighting_ratio  \\\n",
       " 0              0.12742    833958.56250    778873.06250               0.87957   \n",
       " 1              0.18946    365093.37500    276646.37500               0.80462   \n",
       " 2              0.18075   1355428.00000   1073695.00000               0.81471   \n",
       " 3              0.15604    382007.50000    307928.40000               0.83829   \n",
       " 4              0.15594   1468917.50000   1227690.50000               0.83471   \n",
       " \n",
       "    free_alighting  free_alighting_ratio  total_alighting  \n",
       " 0     78874.00000               0.12043     857747.06250  \n",
       " 1     65074.50000               0.19538     341720.87500  \n",
       " 2    244184.00000               0.18529    1317879.00000  \n",
       " 3     58644.10000               0.16171     366572.50000  \n",
       " 4    195455.50000               0.16529    1423146.00000  ,\n",
       "   district  paid_boarding  paid_boarding_ratio  free_boarding  \\\n",
       " 0      강남구   551502.37023              0.87067    66113.04962   \n",
       " 1      강동구   293314.39583              0.80596    66506.68750   \n",
       " 2      강북구  1145277.33333              0.82142   248802.66667   \n",
       " 3      강서구   317477.21094              0.85280    56682.82812   \n",
       " 4      관악구  1259354.58333              0.84226   194290.50000   \n",
       " \n",
       "    free_boarding_ratio  total_boarding  paid_alighting  paid_alighting_ratio  \\\n",
       " 0              0.12933    617615.41985    578725.34351               0.87747   \n",
       " 1              0.19404    359821.08333    269564.98958               0.79855   \n",
       " 2              0.17858   1394080.00000   1102829.91667               0.81589   \n",
       " 3              0.14720    374160.03906    298838.82031               0.84365   \n",
       " 4              0.15774   1453645.08333   1201946.33333               0.83095   \n",
       " \n",
       "    free_alighting  free_alighting_ratio  total_alighting  \n",
       " 0     63718.06107               0.12253     642443.40458  \n",
       " 1     65523.21875               0.20145     335088.20833  \n",
       " 2    248662.50000               0.18411    1351492.41667  \n",
       " 3     56084.60156               0.15635     354923.42188  \n",
       " 4    196720.58333               0.16905    1398666.91667  )"
      ]
     },
     "execution_count": 60,
     "metadata": {},
     "output_type": "execute_result"
    }
   ],
   "source": [
    "grouped_by_month_df = merged_df.groupby(['month', 'district']).mean().reset_index()\n",
    "grouped_by_year_df = merged_df.groupby('district').mean().reset_index()\n",
    "\n",
    "# 지수 표기법 대신 일반 숫자로 표시 (소숫점 5자리까지)\n",
    "pd.options.display.float_format = '{:.5f}'.format\n",
    "\n",
    "grouped_by_month_df.head(), grouped_by_year_df.head()\n",
    "# grouped_by_month_df.info(), grouped_by_year_df.info()"
   ]
  },
  {
   "cell_type": "code",
   "execution_count": null,
   "metadata": {},
   "outputs": [],
   "source": []
  }
 ],
 "metadata": {
  "kernelspec": {
   "display_name": "myenv",
   "language": "python",
   "name": "python3"
  },
  "language_info": {
   "codemirror_mode": {
    "name": "ipython",
    "version": 3
   },
   "file_extension": ".py",
   "mimetype": "text/x-python",
   "name": "python",
   "nbconvert_exporter": "python",
   "pygments_lexer": "ipython3",
   "version": "3.9.20"
  }
 },
 "nbformat": 4,
 "nbformat_minor": 2
}
