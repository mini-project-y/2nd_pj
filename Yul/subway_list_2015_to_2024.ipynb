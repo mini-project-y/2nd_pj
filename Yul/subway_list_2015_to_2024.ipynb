{
 "cells": [
  {
   "cell_type": "code",
   "execution_count": 15,
   "metadata": {},
   "outputs": [],
   "source": [
    "import pandas as pd\n",
    "import numpy as np\n",
    "import matplotlib.pyplot as plt\n",
    "import seaborn as sns\n",
    "\n",
    "# 맷플롯립 한글 사용 가능\n",
    "import matplotlib.pyplot as plt\n",
    "plt.rcParams['font.family'] ='Malgun Gothic'\n",
    "plt.rcParams['axes.unicode_minus'] =False"
   ]
  },
  {
   "cell_type": "code",
   "execution_count": 16,
   "metadata": {},
   "outputs": [],
   "source": [
    "station_2015 = pd.read_csv('../4.Public_transportation/Subway_Number_of_passengers2015.csv',\n",
    "                           encoding = \"CP949\")\n",
    "station_2016 = pd.read_csv('../4.Public_transportation/Subway_Number_of_passengers2016.csv',\n",
    "                           encoding = \"CP949\")\n",
    "station_2017 = pd.read_csv('../4.Public_transportation/Subway_Number_of_passengers2017.csv',\n",
    "                           encoding = \"CP949\")\n",
    "station_2018 = pd.read_csv('../4.Public_transportation/Subway_Number_of_passengers2018.csv',\n",
    "                           encoding = \"CP949\")\n",
    "station_2019 = pd.read_csv('../4.Public_transportation/Subway_Number_of_passengers2019.csv',\n",
    "                           encoding = \"CP949\")\n",
    "station_2020 = pd.read_csv('../4.Public_transportation/Subway_Number_of_passengers2020.csv',\n",
    "                           encoding = \"CP949\")\n",
    "station_2021 = pd.read_csv('../4.Public_transportation/Subway_Number_of_passengers2021.csv',\n",
    "                           encoding = \"CP949\")\n",
    "station_2022 = pd.read_csv('../4.Public_transportation/Subway_Number_of_passengers2022.csv',\n",
    "                           encoding = \"CP949\")\n",
    "station_2023 = pd.read_csv('../4.Public_transportation/Subway_Number_of_passengers2023.csv',\n",
    "                           encoding = \"CP949\")\n",
    "station_2024 = pd.read_csv('../4.Public_transportation/Subway_Number_of_passengers2024.csv',\n",
    "                           encoding = \"CP949\")\n"
   ]
  },
  {
   "cell_type": "code",
   "execution_count": 17,
   "metadata": {},
   "outputs": [
    {
     "data": {
      "text/plain": [
       "Index(['사용월', '호선명', '지하철역', '유임승차인원', '무임승차인원', '유임하차인원', '무임하차인원', '작업일자'], dtype='object')"
      ]
     },
     "execution_count": 17,
     "metadata": {},
     "output_type": "execute_result"
    }
   ],
   "source": [
    "station_2015.columns\n",
    "station_2016.columns\n",
    "station_2017.columns\n",
    "station_2018.columns\n",
    "station_2019.columns\n",
    "station_2020.columns\n",
    "station_2021.columns\n",
    "station_2022.columns\n",
    "station_2023.columns\n",
    "station_2024.columns"
   ]
  },
  {
   "cell_type": "code",
   "execution_count": 18,
   "metadata": {},
   "outputs": [],
   "source": [
    "station_2015.columns = ['YYYYMM', 'line', 'name', 'paid_b', 'free_b', 'paid_a', 'free_a', 'data_date']\n",
    "station_2016.columns = ['YYYYMM', 'line', 'name', 'paid_b', 'free_b', 'paid_a', 'free_a', 'data_date']\n",
    "station_2017.columns = ['YYYYMM', 'line', 'name', 'paid_b', 'free_b', 'paid_a', 'free_a', 'data_date']\n",
    "station_2018.columns = ['YYYYMM', 'line', 'name', 'paid_b', 'free_b', 'paid_a', 'free_a', 'data_date']\n",
    "station_2019.columns = ['YYYYMM', 'line', 'name', 'paid_b', 'free_b', 'paid_a', 'free_a', 'data_date']\n",
    "station_2020.columns = ['YYYYMM', 'line', 'name', 'paid_b', 'free_b', 'paid_a', 'free_a', 'data_date']\n",
    "station_2021.columns = ['YYYYMM', 'line', 'name', 'paid_b', 'free_b', 'paid_a', 'free_a', 'data_date']\n",
    "station_2022.columns = ['YYYYMM', 'line', 'name', 'paid_b', 'free_b', 'paid_a', 'free_a', 'data_date']\n",
    "station_2023.columns = ['YYYYMM', 'line', 'name', 'paid_b', 'free_b', 'paid_a', 'free_a', 'data_date']\n",
    "station_2024.columns = ['YYYYMM', 'line', 'name', 'paid_b', 'free_b', 'paid_a', 'free_a', 'data_date']"
   ]
  },
  {
   "cell_type": "code",
   "execution_count": 19,
   "metadata": {},
   "outputs": [],
   "source": [
    "station_2015 = station_2015[['line', 'name']]\n",
    "station_2016 = station_2016[['line', 'name']]\n",
    "station_2017 = station_2017[['line', 'name']]\n",
    "station_2018 = station_2018[['line', 'name']]\n",
    "station_2019 = station_2019[['line', 'name']]\n",
    "station_2020 = station_2020[['line', 'name']]\n",
    "station_2021 = station_2021[['line', 'name']]\n",
    "station_2022 = station_2022[['line', 'name']]\n",
    "station_2023 = station_2023[['line', 'name']]\n",
    "station_2024 = station_2024[['line', 'name']]"
   ]
  },
  {
   "cell_type": "code",
   "execution_count": 20,
   "metadata": {},
   "outputs": [],
   "source": [
    "station_2015 = station_2015.drop_duplicates()\n",
    "station_2016 = station_2016.drop_duplicates()\n",
    "station_2017 = station_2017.drop_duplicates()\n",
    "station_2018 = station_2018.drop_duplicates()\n",
    "station_2019 = station_2019.drop_duplicates()\n",
    "station_2020 = station_2020.drop_duplicates()\n",
    "station_2021 = station_2021.drop_duplicates()\n",
    "station_2022 = station_2022.drop_duplicates()\n",
    "station_2023 = station_2023.drop_duplicates()\n",
    "station_2024 = station_2024.drop_duplicates()"
   ]
  },
  {
   "cell_type": "code",
   "execution_count": 31,
   "metadata": {},
   "outputs": [
    {
     "name": "stdout",
     "output_type": "stream",
     "text": [
      "2015: \n",
      " ['1호선' '2호선' '3호선' '4호선' '5호선' '6호선' '7호선' '8호선' '9호선' '9호선2단계' '경부선'\n",
      " '경원선' '경의선' '경인선' '경춘선' '공항철도 1호선' '과천선' '분당선' '수인선' '안산선' '일산선' '장항선'\n",
      " '중앙선'] \n",
      "\n",
      "\n",
      "2016: \n",
      " ['1호선' '2호선' '3호선' '4호선' '5호선' '6호선' '7호선' '8호선' '9호선' '9호선2단계' '경강선'\n",
      " '경부선' '경원선' '경의선' '경인선' '경춘선' '공항철도 1호선' '과천선' '분당선' '수인선' '안산선' '일산선'\n",
      " '장항선' '중앙선'] \n",
      "\n",
      "\n",
      "2017: \n",
      " ['1호선' '2호선' '3호선' '4호선' '5호선' '6호선' '7호선' '8호선' '9호선' '9호선2단계' '경강선'\n",
      " '경부선' '경원선' '경의선' '경인선' '경춘선' '공항철도 1호선' '과천선' '분당선' '수인선' '안산선' '우이신설선'\n",
      " '일산선' '장항선' '중앙선'] \n",
      "\n",
      "\n",
      "2018: \n",
      " ['1호선' '2호선' '3호선' '4호선' '5호선' '6호선' '7호선' '8호선' '9호선' '9호선2~3단계' '경강선'\n",
      " '경부선' '경원선' '경의선' '경인선' '경춘선' '공항철도 1호선' '과천선' '분당선' '수인선' '안산선' '우이신설선'\n",
      " '일산선' '장항선' '중앙선' '9호선2단계'] \n",
      "\n",
      "\n",
      "2019: \n",
      " ['1호선' '2호선' '3호선' '4호선' '5호선' '6호선' '7호선' '8호선' '9호선' '9호선2~3단계' '경강선'\n",
      " '경부선' '경원선' '경의선' '경인선' '경춘선' '공항철도 1호선' '과천선' '분당선' '수인선' '안산선' '우이신설선'\n",
      " '일산선' '장항선' '중앙선'] \n",
      "\n",
      "\n",
      "2020: \n",
      " ['1호선' '2호선' '3호선' '4호선' '5호선' '6호선' '7호선' '8호선' '9호선' '9호선2~3단계' '경강선'\n",
      " '경부선' '경원선' '경의선' '경인선' '경춘선' '공항철도 1호선' '과천선' '분당선' '수인선' '안산선' '우이신설선'\n",
      " '일산선' '장항선' '중앙선'] \n",
      "\n",
      "\n",
      "2021: \n",
      " ['1호선' '2호선' '3호선' '4호선' '5호선' '6호선' '7호선' '8호선' '9호선' '9호선2~3단계' '경강선'\n",
      " '경부선' '경원선' '경의선' '경인선' '경춘선' '공항철도 1호선' '과천선' '분당선' '수인선' '안산선' '우이신설선'\n",
      " '일산선' '장항선' '중앙선'] \n",
      "\n",
      "\n",
      "2022: \n",
      " ['1호선' '2호선' '3호선' '4호선' '5호선' '6호선' '7호선' '8호선' '9호선' '9호선2~3단계' '경강선'\n",
      " '경부선' '경원선' '경의선' '경인선' '경춘선' '공항철도 1호선' '과천선' '분당선' '수인선' '신림선' '안산선'\n",
      " '우이신설선' '일산선' '장항선' '중앙선'] \n",
      "\n",
      "\n",
      "2023: \n",
      " ['1호선' '2호선' '3호선' '4호선' '5호선' '6호선' '7호선' '8호선' '9호선' '9호선2~3단계' '경강선'\n",
      " '경부선' '경원선' '경의선' '경인선' '경춘선' '공항철도 1호선' '과천선' '분당선' '서해선' '수인선' '신림선'\n",
      " '안산선' '우이신설선' '일산선' '장항선' '중앙선'] \n",
      "\n",
      "\n",
      "2024: \n",
      " ['1호선' '2호선' '3호선' '4호선' '5호선' '6호선' '7호선' '8호선' '9호선' '9호선2~3단계' '경강선'\n",
      " '경부선' '경원선' '경의선' '경인선' '경춘선' '공항철도 1호선' '과천선' '분당선' '서해선' '수인선' '신림선'\n",
      " '안산선' '우이신설선' '일산선' '장항선' '중앙선'] \n",
      "\n",
      "\n"
     ]
    }
   ],
   "source": [
    "print(\"2015:\", '\\n', station_2015['line'].unique(), '\\n\\n')\n",
    "print(\"2016:\", '\\n', station_2016['line'].unique(), '\\n\\n')\n",
    "print(\"2017:\", '\\n', station_2017['line'].unique(), '\\n\\n')\n",
    "print(\"2018:\", '\\n', station_2018['line'].unique(), '\\n\\n')\n",
    "print(\"2019:\", '\\n', station_2019['line'].unique(), '\\n\\n')\n",
    "print(\"2020:\", '\\n', station_2020['line'].unique(), '\\n\\n')\n",
    "print(\"2021:\", '\\n', station_2021['line'].unique(), '\\n\\n')\n",
    "print(\"2022:\", '\\n', station_2022['line'].unique(), '\\n\\n')\n",
    "print(\"2023:\", '\\n', station_2023['line'].unique(), '\\n\\n')\n",
    "print(\"2024:\", '\\n', station_2024['line'].unique(), '\\n\\n')"
   ]
  },
  {
   "cell_type": "code",
   "execution_count": 34,
   "metadata": {},
   "outputs": [],
   "source": [
    "station_2015['line'] = station_2015['line'].str.replace('9호선2단계', '9호선')\n",
    "station_2016['line'] = station_2016['line'].str.replace('9호선2단계', '9호선')\n",
    "station_2017['line'] = station_2017['line'].str.replace('9호선2단계', '9호선')\n",
    "station_2018['line'] = station_2018['line'].str.replace('9호선2~3단계', '9호선')\n",
    "station_2019['line'] = station_2019['line'].str.replace('9호선2~3단계', '9호선')\n",
    "station_2020['line'] = station_2020['line'].str.replace('9호선2~3단계', '9호선')\n",
    "station_2021['line'] = station_2021['line'].str.replace('9호선2~3단계', '9호선')\n",
    "station_2022['line'] = station_2022['line'].str.replace('9호선2~3단계', '9호선')\n",
    "station_2023['line'] = station_2023['line'].str.replace('9호선2~3단계', '9호선')\n",
    "station_2024['line'] = station_2024['line'].str.replace('9호선2~3단계', '9호선')"
   ]
  },
  {
   "cell_type": "code",
   "execution_count": 35,
   "metadata": {},
   "outputs": [
    {
     "name": "stdout",
     "output_type": "stream",
     "text": [
      "2015: \n",
      " ['1호선' '2호선' '3호선' '4호선' '5호선' '6호선' '7호선' '8호선' '9호선' '경부선' '경원선' '경의선'\n",
      " '경인선' '경춘선' '공항철도 1호선' '과천선' '분당선' '수인선' '안산선' '일산선' '장항선' '중앙선'] \n",
      "\n",
      "\n",
      "2016: \n",
      " ['1호선' '2호선' '3호선' '4호선' '5호선' '6호선' '7호선' '8호선' '9호선' '경강선' '경부선' '경원선'\n",
      " '경의선' '경인선' '경춘선' '공항철도 1호선' '과천선' '분당선' '수인선' '안산선' '일산선' '장항선' '중앙선'] \n",
      "\n",
      "\n",
      "2017: \n",
      " ['1호선' '2호선' '3호선' '4호선' '5호선' '6호선' '7호선' '8호선' '9호선' '경강선' '경부선' '경원선'\n",
      " '경의선' '경인선' '경춘선' '공항철도 1호선' '과천선' '분당선' '수인선' '안산선' '우이신설선' '일산선' '장항선'\n",
      " '중앙선'] \n",
      "\n",
      "\n",
      "2018: \n",
      " ['1호선' '2호선' '3호선' '4호선' '5호선' '6호선' '7호선' '8호선' '9호선' '경강선' '경부선' '경원선'\n",
      " '경의선' '경인선' '경춘선' '공항철도 1호선' '과천선' '분당선' '수인선' '안산선' '우이신설선' '일산선' '장항선'\n",
      " '중앙선'] \n",
      "\n",
      "\n",
      "2019: \n",
      " ['1호선' '2호선' '3호선' '4호선' '5호선' '6호선' '7호선' '8호선' '9호선' '경강선' '경부선' '경원선'\n",
      " '경의선' '경인선' '경춘선' '공항철도 1호선' '과천선' '분당선' '수인선' '안산선' '우이신설선' '일산선' '장항선'\n",
      " '중앙선'] \n",
      "\n",
      "\n",
      "2020: \n",
      " ['1호선' '2호선' '3호선' '4호선' '5호선' '6호선' '7호선' '8호선' '9호선' '경강선' '경부선' '경원선'\n",
      " '경의선' '경인선' '경춘선' '공항철도 1호선' '과천선' '분당선' '수인선' '안산선' '우이신설선' '일산선' '장항선'\n",
      " '중앙선'] \n",
      "\n",
      "\n",
      "2021: \n",
      " ['1호선' '2호선' '3호선' '4호선' '5호선' '6호선' '7호선' '8호선' '9호선' '경강선' '경부선' '경원선'\n",
      " '경의선' '경인선' '경춘선' '공항철도 1호선' '과천선' '분당선' '수인선' '안산선' '우이신설선' '일산선' '장항선'\n",
      " '중앙선'] \n",
      "\n",
      "\n",
      "2022: \n",
      " ['1호선' '2호선' '3호선' '4호선' '5호선' '6호선' '7호선' '8호선' '9호선' '경강선' '경부선' '경원선'\n",
      " '경의선' '경인선' '경춘선' '공항철도 1호선' '과천선' '분당선' '수인선' '신림선' '안산선' '우이신설선' '일산선'\n",
      " '장항선' '중앙선'] \n",
      "\n",
      "\n",
      "2023: \n",
      " ['1호선' '2호선' '3호선' '4호선' '5호선' '6호선' '7호선' '8호선' '9호선' '경강선' '경부선' '경원선'\n",
      " '경의선' '경인선' '경춘선' '공항철도 1호선' '과천선' '분당선' '서해선' '수인선' '신림선' '안산선' '우이신설선'\n",
      " '일산선' '장항선' '중앙선'] \n",
      "\n",
      "\n",
      "2024: \n",
      " ['1호선' '2호선' '3호선' '4호선' '5호선' '6호선' '7호선' '8호선' '9호선' '경강선' '경부선' '경원선'\n",
      " '경의선' '경인선' '경춘선' '공항철도 1호선' '과천선' '분당선' '서해선' '수인선' '신림선' '안산선' '우이신설선'\n",
      " '일산선' '장항선' '중앙선'] \n",
      "\n",
      "\n"
     ]
    }
   ],
   "source": [
    "print(\"2015:\", '\\n', station_2015['line'].unique(), '\\n\\n')\n",
    "print(\"2016:\", '\\n', station_2016['line'].unique(), '\\n\\n')\n",
    "print(\"2017:\", '\\n', station_2017['line'].unique(), '\\n\\n')\n",
    "print(\"2018:\", '\\n', station_2018['line'].unique(), '\\n\\n')\n",
    "print(\"2019:\", '\\n', station_2019['line'].unique(), '\\n\\n')\n",
    "print(\"2020:\", '\\n', station_2020['line'].unique(), '\\n\\n')\n",
    "print(\"2021:\", '\\n', station_2021['line'].unique(), '\\n\\n')\n",
    "print(\"2022:\", '\\n', station_2022['line'].unique(), '\\n\\n')\n",
    "print(\"2023:\", '\\n', station_2023['line'].unique(), '\\n\\n')\n",
    "print(\"2024:\", '\\n', station_2024['line'].unique(), '\\n\\n')"
   ]
  },
  {
   "cell_type": "code",
   "execution_count": 37,
   "metadata": {},
   "outputs": [],
   "source": [
    "station_2015.to_csv('forDP/subway/station_list_2015.csv', index=False)\n",
    "station_2016.to_csv('forDP/subway/station_list_2016.csv', index=False)\n",
    "station_2017.to_csv('forDP/subway/station_list_2017.csv', index=False)\n",
    "station_2018.to_csv('forDP/subway/station_list_2018.csv', index=False)\n",
    "station_2019.to_csv('forDP/subway/station_list_2019.csv', index=False)\n",
    "station_2020.to_csv('forDP/subway/station_list_2020.csv', index=False)\n",
    "station_2021.to_csv('forDP/subway/station_list_2021.csv', index=False)\n",
    "station_2022.to_csv('forDP/subway/station_list_2022.csv', index=False)\n",
    "station_2023.to_csv('forDP/subway/station_list_2023.csv', index=False)\n",
    "station_2024.to_csv('forDP/subway/station_list_2024.csv', index=False)"
   ]
  },
  {
   "cell_type": "code",
   "execution_count": null,
   "metadata": {},
   "outputs": [],
   "source": [
    "# station_2015\n",
    "# station_2016\n",
    "# station_2017\n",
    "# station_2018\n",
    "# station_2019\n",
    "# station_2020\n",
    "# station_2021\n",
    "# station_2022\n",
    "# station_2023\n",
    "# station_2024"
   ]
  }
 ],
 "metadata": {
  "kernelspec": {
   "display_name": "myenv",
   "language": "python",
   "name": "python3"
  },
  "language_info": {
   "codemirror_mode": {
    "name": "ipython",
    "version": 3
   },
   "file_extension": ".py",
   "mimetype": "text/x-python",
   "name": "python",
   "nbconvert_exporter": "python",
   "pygments_lexer": "ipython3",
   "version": "3.9.20"
  }
 },
 "nbformat": 4,
 "nbformat_minor": 2
}
