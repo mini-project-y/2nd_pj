{
 "cells": [
  {
   "cell_type": "code",
   "execution_count": 21,
   "metadata": {},
   "outputs": [],
   "source": [
    "import pandas as pd\n",
    "import numpy as np\n",
    "import matplotlib.pyplot as plt\n",
    "import seaborn as sns\n",
    "\n",
    "# 맷플롯립 한글 사용 가능\n",
    "import matplotlib.pyplot as plt\n",
    "plt.rcParams['font.family'] ='Malgun Gothic'\n",
    "plt.rcParams['axes.unicode_minus'] =False\n"
   ]
  },
  {
   "cell_type": "code",
   "execution_count": 22,
   "metadata": {},
   "outputs": [],
   "source": [
    "origin_school = pd.read_csv('forDP/from_Jey_uniq_all_school.csv')\n",
    "origin_hospital = pd.read_csv('forDP/from_Jey_uniq_hospital.csv')\n",
    "was_mv_school = pd.read_csv('forDP/from_Jun_was_mv_school.csv')\n",
    "was_mv_hospital = pd.read_csv('forDP/from_Jun_was_mv_hospital.csv')\n",
    "was_mv_hospital2 = pd.read_csv('forDP/from_Jun_was_mv_hospital2.csv')"
   ]
  },
  {
   "cell_type": "code",
   "execution_count": 23,
   "metadata": {},
   "outputs": [
    {
     "name": "stdout",
     "output_type": "stream",
     "text": [
      "<class 'pandas.core.frame.DataFrame'>\n",
      "RangeIndex: 19972 entries, 0 to 19971\n",
      "Data columns (total 4 columns):\n",
      " #   Column     Non-Null Count  Dtype  \n",
      "---  ------     --------------  -----  \n",
      " 0   no         19972 non-null  object \n",
      " 1   address    19972 non-null  object \n",
      " 2   latitude   18817 non-null  float64\n",
      " 3   longitude  18817 non-null  float64\n",
      "dtypes: float64(2), object(2)\n",
      "memory usage: 624.2+ KB\n"
     ]
    }
   ],
   "source": [
    "origin_hospital.info()"
   ]
  },
  {
   "cell_type": "code",
   "execution_count": 24,
   "metadata": {},
   "outputs": [],
   "source": [
    "merged_school = pd.merge(origin_school, was_mv_school, how='outer', on='no')\n",
    "merged_hospital = pd.merge(origin_hospital, was_mv_hospital, how='outer', on='no')"
   ]
  },
  {
   "cell_type": "code",
   "execution_count": 25,
   "metadata": {},
   "outputs": [
    {
     "name": "stdout",
     "output_type": "stream",
     "text": [
      "<class 'pandas.core.frame.DataFrame'>\n",
      "RangeIndex: 20106 entries, 0 to 20105\n",
      "Data columns (total 7 columns):\n",
      " #   Column       Non-Null Count  Dtype  \n",
      "---  ------       --------------  -----  \n",
      " 0   no           20106 non-null  object \n",
      " 1   address_x    20106 non-null  object \n",
      " 2   latitude_x   18897 non-null  float64\n",
      " 3   longitude_x  18897 non-null  float64\n",
      " 4   address_y    1995 non-null   object \n",
      " 5   latitude_y   1966 non-null   float64\n",
      " 6   longitude_y  1966 non-null   float64\n",
      "dtypes: float64(4), object(3)\n",
      "memory usage: 1.1+ MB\n"
     ]
    }
   ],
   "source": [
    "merged_hospital.info()"
   ]
  },
  {
   "cell_type": "code",
   "execution_count": 26,
   "metadata": {},
   "outputs": [],
   "source": [
    "merged_hospital['latitude'] = merged_hospital['latitude_x'].fillna(merged_hospital['latitude_y'])\n",
    "merged_hospital['longitude'] = merged_hospital['longitude_x'].fillna(merged_hospital['longitude_y'])\n",
    "merged_school['latitude'] = merged_school['latitude_x'].fillna(merged_school['latitude_y'])\n",
    "merged_school['longitude'] = merged_school['longitude_x'].fillna(merged_school['longitude_y'])"
   ]
  },
  {
   "cell_type": "code",
   "execution_count": 27,
   "metadata": {},
   "outputs": [],
   "source": [
    "merged_hospital = merged_hospital[['no', 'address_x', 'latitude', 'longitude']]\n",
    "merged_hospital.columns = ['hospital_name', 'address', 'latitude', 'longitude']\n",
    "merged_school = merged_school[['no', 'address_x', 'latitude', 'longitude']]\n",
    "merged_school.columns = ['school_name', 'address', 'latitude', 'longitude']"
   ]
  },
  {
   "cell_type": "code",
   "execution_count": 28,
   "metadata": {},
   "outputs": [],
   "source": [
    "merged_hospital = pd.merge(merged_hospital, was_mv_hospital2, how='outer', on='hospital_name')\n",
    "merged_hospital['latitude'] = merged_hospital['latitude_x'].fillna(merged_hospital['latitude_y'])\n",
    "merged_hospital['longitude'] = merged_hospital['longitude_x'].fillna(merged_hospital['longitude_y'])\n",
    "merged_hospital = merged_hospital[['hospital_name', 'address_x', 'latitude', 'longitude']]\n",
    "merged_hospital.columns = ['hospital_name', 'address', 'latitude', 'longitude']"
   ]
  },
  {
   "cell_type": "code",
   "execution_count": 29,
   "metadata": {},
   "outputs": [
    {
     "name": "stdout",
     "output_type": "stream",
     "text": [
      "<class 'pandas.core.frame.DataFrame'>\n",
      "RangeIndex: 20110 entries, 0 to 20109\n",
      "Data columns (total 4 columns):\n",
      " #   Column         Non-Null Count  Dtype  \n",
      "---  ------         --------------  -----  \n",
      " 0   hospital_name  20110 non-null  object \n",
      " 1   address        20110 non-null  object \n",
      " 2   latitude       20110 non-null  float64\n",
      " 3   longitude      20110 non-null  float64\n",
      "dtypes: float64(2), object(2)\n",
      "memory usage: 628.6+ KB\n",
      "<class 'pandas.core.frame.DataFrame'>\n",
      "RangeIndex: 1300 entries, 0 to 1299\n",
      "Data columns (total 4 columns):\n",
      " #   Column       Non-Null Count  Dtype  \n",
      "---  ------       --------------  -----  \n",
      " 0   school_name  1300 non-null   object \n",
      " 1   address      1300 non-null   object \n",
      " 2   latitude     1300 non-null   float64\n",
      " 3   longitude    1300 non-null   float64\n",
      "dtypes: float64(2), object(2)\n",
      "memory usage: 40.8+ KB\n"
     ]
    },
    {
     "data": {
      "text/plain": [
       "(None, None)"
      ]
     },
     "execution_count": 29,
     "metadata": {},
     "output_type": "execute_result"
    }
   ],
   "source": [
    "merged_hospital.info(), merged_school.info()"
   ]
  },
  {
   "cell_type": "code",
   "execution_count": 30,
   "metadata": {},
   "outputs": [
    {
     "name": "stdout",
     "output_type": "stream",
     "text": [
      "hospital_name    0\n",
      "address          0\n",
      "latitude         0\n",
      "longitude        0\n",
      "dtype: int64 school_name    0\n",
      "address        0\n",
      "latitude       0\n",
      "longitude      0\n",
      "dtype: int64\n",
      "hospital_name    16470\n",
      "address          19972\n",
      "latitude         10408\n",
      "longitude        10408\n",
      "dtype: int64 school_name    1298\n",
      "address        1300\n",
      "latitude       1298\n",
      "longitude      1298\n",
      "dtype: int64\n",
      "  school_name                   address   latitude   longitude\n",
      "7      가톨릭대학교            서울 서초구 반포동 505  37.500080  127.005247\n",
      "8      가톨릭대학교  서울 종로구 창경궁로 296-12(혜화동)   37.584901  127.004771\n",
      "    school_name                    address   latitude   longitude\n",
      "346   서울과학기술대학교   서울 노원구 공릉로 232 (공릉동 172)  37.633079  127.076795\n",
      "347   서울과학기술대학교  서울시 노원구 공릉로 232 서울과학기술대학교  37.633079  127.076795\n",
      "<class 'pandas.core.frame.DataFrame'>\n",
      "Index: 1299 entries, 0 to 1299\n",
      "Data columns (total 4 columns):\n",
      " #   Column       Non-Null Count  Dtype  \n",
      "---  ------       --------------  -----  \n",
      " 0   school_name  1299 non-null   object \n",
      " 1   address      1299 non-null   object \n",
      " 2   latitude     1299 non-null   float64\n",
      " 3   longitude    1299 non-null   float64\n",
      "dtypes: float64(2), object(2)\n",
      "memory usage: 50.7+ KB\n",
      "<class 'pandas.core.frame.DataFrame'>\n",
      "Index: 19972 entries, 0 to 20109\n",
      "Data columns (total 4 columns):\n",
      " #   Column         Non-Null Count  Dtype  \n",
      "---  ------         --------------  -----  \n",
      " 0   hospital_name  19972 non-null  object \n",
      " 1   address        19972 non-null  object \n",
      " 2   latitude       19972 non-null  float64\n",
      " 3   longitude      19972 non-null  float64\n",
      "dtypes: float64(2), object(2)\n",
      "memory usage: 780.2+ KB\n",
      "<class 'pandas.core.frame.DataFrame'>\n",
      "Index: 1299 entries, 0 to 1299\n",
      "Data columns (total 4 columns):\n",
      " #   Column       Non-Null Count  Dtype  \n",
      "---  ------       --------------  -----  \n",
      " 0   school_name  1299 non-null   object \n",
      " 1   address      1299 non-null   object \n",
      " 2   latitude     1299 non-null   float64\n",
      " 3   longitude    1299 non-null   float64\n",
      "dtypes: float64(2), object(2)\n",
      "memory usage: 50.7+ KB\n"
     ]
    },
    {
     "data": {
      "text/plain": [
       "(None, None)"
      ]
     },
     "execution_count": 30,
     "metadata": {},
     "output_type": "execute_result"
    }
   ],
   "source": [
    "print(merged_hospital.isna().sum(), merged_school.isna().sum())\n",
    "print(merged_hospital.nunique(), merged_school.nunique())\n",
    "merged_school[merged_school.duplicated(subset='school_name')]\n",
    "print(merged_school[merged_school['school_name']=='가톨릭대학교'])\n",
    "print(merged_school[merged_school['school_name']=='서울과학기술대학교'])\n",
    "merged_school.drop(347, inplace=True)\n",
    "merged_school.info()\n",
    "merged_hospital.drop_duplicates(subset='address', inplace=True)\n",
    "merged_hospital.info(), merged_school.info()"
   ]
  },
  {
   "cell_type": "code",
   "execution_count": null,
   "metadata": {},
   "outputs": [],
   "source": [
    "merged_school.to_csv('forDP/dp_school.csv', index=False, encoding='utf-8')\n",
    "merged_hospital.to_csv('forDP/dp_hospital.csv', index=False, encoding='utf-8')"
   ]
  }
 ],
 "metadata": {
  "kernelspec": {
   "display_name": "myenv",
   "language": "python",
   "name": "python3"
  },
  "language_info": {
   "codemirror_mode": {
    "name": "ipython",
    "version": 3
   },
   "file_extension": ".py",
   "mimetype": "text/x-python",
   "name": "python",
   "nbconvert_exporter": "python",
   "pygments_lexer": "ipython3",
   "version": "3.9.20"
  }
 },
 "nbformat": 4,
 "nbformat_minor": 2
}
