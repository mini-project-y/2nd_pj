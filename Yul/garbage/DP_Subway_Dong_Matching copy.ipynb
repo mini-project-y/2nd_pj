{
 "cells": [
  {
   "cell_type": "markdown",
   "metadata": {},
   "source": [
    "# 지하철역과 법정동 연결"
   ]
  },
  {
   "cell_type": "code",
   "execution_count": 149,
   "metadata": {},
   "outputs": [],
   "source": [
    "import pandas as pd\n",
    "import numpy as np\n",
    "import matplotlib.pyplot as plt\n",
    "import seaborn as sns\n",
    "\n",
    "# 맷플롯립 한글 사용 가능\n",
    "import matplotlib.pyplot as plt\n",
    "plt.rcParams['font.family'] ='Malgun Gothic'\n",
    "plt.rcParams['axes.unicode_minus'] =False"
   ]
  },
  {
   "cell_type": "markdown",
   "metadata": {},
   "source": [
    "### 1. 데이터 읽기"
   ]
  },
  {
   "cell_type": "code",
   "execution_count": 211,
   "metadata": {},
   "outputs": [],
   "source": [
    "subway_df = pd.read_csv('../4.Public_transportation/station_address.csv', encoding=\"CP949\")\n",
    "l_dong_df = pd.read_csv('forDP/LdongID.csv', encoding=\"CP949\")\n",
    "seoul_subway_df = pd.read_csv('../4.Public_transportation/서울시 지하철 역별 승하차 인원.csv',\n",
    "                              encoding=\"CP949\")"
   ]
  },
  {
   "cell_type": "code",
   "execution_count": 212,
   "metadata": {},
   "outputs": [
    {
     "name": "stdout",
     "output_type": "stream",
     "text": [
      "<class 'pandas.core.frame.DataFrame'>\n",
      "RangeIndex: 289 entries, 0 to 288\n",
      "Data columns (total 5 columns):\n",
      " #   Column  Non-Null Count  Dtype \n",
      "---  ------  --------------  ----- \n",
      " 0   line    289 non-null    object\n",
      " 1   name    289 non-null    object\n",
      " 2   city    289 non-null    object\n",
      " 3   gu      289 non-null    object\n",
      " 4   dong    289 non-null    object\n",
      "dtypes: object(5)\n",
      "memory usage: 11.4+ KB\n",
      "<class 'pandas.core.frame.DataFrame'>\n",
      "RangeIndex: 467 entries, 0 to 466\n",
      "Data columns (total 3 columns):\n",
      " #   Column  Non-Null Count  Dtype \n",
      "---  ------  --------------  ----- \n",
      " 0   ID      467 non-null    int64 \n",
      " 1   gu      467 non-null    object\n",
      " 2   dong    467 non-null    object\n",
      "dtypes: int64(1), object(2)\n",
      "memory usage: 11.1+ KB\n",
      "<class 'pandas.core.frame.DataFrame'>\n",
      "RangeIndex: 24698 entries, 0 to 24697\n",
      "Data columns (total 6 columns):\n",
      " #   Column  Non-Null Count  Dtype \n",
      "---  ------  --------------  ----- \n",
      " 0   사용일자    24698 non-null  int64 \n",
      " 1   호선명     24698 non-null  object\n",
      " 2   역명      24698 non-null  object\n",
      " 3   승차총승객수  24698 non-null  int64 \n",
      " 4   하차총승객수  24698 non-null  int64 \n",
      " 5   등록일자    24698 non-null  int64 \n",
      "dtypes: int64(4), object(2)\n",
      "memory usage: 1.1+ MB\n"
     ]
    },
    {
     "data": {
      "text/plain": [
       "(None, None, None)"
      ]
     },
     "execution_count": 212,
     "metadata": {},
     "output_type": "execute_result"
    }
   ],
   "source": [
    "subway_df.info(), l_dong_df.info(), seoul_subway_df.info()"
   ]
  },
  {
   "cell_type": "code",
   "execution_count": 213,
   "metadata": {},
   "outputs": [],
   "source": [
    "seoul_subway_df.columns = ['date', 'line', 'name', 'boarding', 'alighting', 'date_data']\n",
    "seoul_subway_df = seoul_subway_df[['line', 'name']]"
   ]
  },
  {
   "cell_type": "code",
   "execution_count": 214,
   "metadata": {},
   "outputs": [
    {
     "name": "stdout",
     "output_type": "stream",
     "text": [
      "<class 'pandas.core.frame.DataFrame'>\n",
      "Index: 620 entries, 0 to 5287\n",
      "Data columns (total 2 columns):\n",
      " #   Column  Non-Null Count  Dtype \n",
      "---  ------  --------------  ----- \n",
      " 0   line    620 non-null    object\n",
      " 1   name    620 non-null    object\n",
      "dtypes: object(2)\n",
      "memory usage: 14.5+ KB\n"
     ]
    }
   ],
   "source": [
    "seoul_subway_df = seoul_subway_df.drop_duplicates()\n",
    "seoul_subway_df.info()"
   ]
  },
  {
   "cell_type": "code",
   "execution_count": 215,
   "metadata": {},
   "outputs": [
    {
     "data": {
      "text/plain": [
       "line\n",
       "1호선         10\n",
       "2호선         50\n",
       "3호선         34\n",
       "4호선         26\n",
       "5호선         56\n",
       "6호선         39\n",
       "7호선         42\n",
       "8호선         19\n",
       "9호선         25\n",
       "9호선2~3단계    13\n",
       "경강선         12\n",
       "경부선         39\n",
       "경원선         33\n",
       "경의선         29\n",
       "경인선         20\n",
       "경춘선         19\n",
       "공항철도 1호선    14\n",
       "과천선          8\n",
       "분당선         35\n",
       "서해선          3\n",
       "수인선         18\n",
       "신림선         11\n",
       "안산선         13\n",
       "우이신설선       13\n",
       "일산선         11\n",
       "장항선          7\n",
       "중앙선         21\n",
       "Name: name, dtype: int64"
      ]
     },
     "execution_count": 215,
     "metadata": {},
     "output_type": "execute_result"
    }
   ],
   "source": [
    "seoul_subway_df.groupby('line')['name'].count().sort_index()"
   ]
  },
  {
   "cell_type": "code",
   "execution_count": 216,
   "metadata": {},
   "outputs": [],
   "source": [
    "seoul_subway_df['line'] = seoul_subway_df['line'].map(lambda v : str(v).replace('9호선2~3단계', \"9호선\"))"
   ]
  },
  {
   "cell_type": "code",
   "execution_count": 217,
   "metadata": {},
   "outputs": [
    {
     "data": {
      "text/plain": [
       "line\n",
       "1호선         10\n",
       "2호선         50\n",
       "3호선         34\n",
       "4호선         26\n",
       "5호선         56\n",
       "6호선         39\n",
       "7호선         42\n",
       "8호선         19\n",
       "9호선         38\n",
       "경강선         12\n",
       "경부선         39\n",
       "경원선         33\n",
       "경의선         29\n",
       "경인선         20\n",
       "경춘선         19\n",
       "공항철도 1호선    14\n",
       "과천선          8\n",
       "분당선         35\n",
       "서해선          3\n",
       "수인선         18\n",
       "신림선         11\n",
       "안산선         13\n",
       "우이신설선       13\n",
       "일산선         11\n",
       "장항선          7\n",
       "중앙선         21\n",
       "Name: name, dtype: int64"
      ]
     },
     "execution_count": 217,
     "metadata": {},
     "output_type": "execute_result"
    }
   ],
   "source": [
    "seoul_subway_df.groupby('line')['name'].count().sort_index()"
   ]
  },
  {
   "cell_type": "code",
   "execution_count": 218,
   "metadata": {},
   "outputs": [
    {
     "data": {
      "text/plain": [
       "line\n",
       "1호선    10\n",
       "2호선    50\n",
       "3호선    34\n",
       "4호선    26\n",
       "5호선    56\n",
       "6호선    39\n",
       "7호선    42\n",
       "8호선    19\n",
       "9호선    13\n",
       "Name: name, dtype: int64"
      ]
     },
     "execution_count": 218,
     "metadata": {},
     "output_type": "execute_result"
    }
   ],
   "source": [
    "subway_df.groupby('line')['name'].count().sort_index()"
   ]
  },
  {
   "cell_type": "code",
   "execution_count": 220,
   "metadata": {},
   "outputs": [
    {
     "name": "stdout",
     "output_type": "stream",
     "text": [
      "\n",
      "1호선 비교:\n",
      "역 개수: seoul_subway_df 10개, subway_df 10개\n",
      "seoul_subway_df에만 있는 역: ['서울역']\n",
      "subway_df에만 있는 역: ['서울']\n",
      "\n",
      "2호선 비교:\n",
      "역 개수: seoul_subway_df 50개, subway_df 50개\n",
      "seoul_subway_df에만 있는 역: ['교대(법원.검찰청)', '신촌']\n",
      "subway_df에만 있는 역: ['교대(법원, 검찰청)', '신촌(지하)']\n",
      "\n",
      "3호선 비교:\n",
      "역 개수: seoul_subway_df 34개, subway_df 34개\n",
      "seoul_subway_df에만 있는 역: ['교대(법원.검찰청)']\n",
      "subway_df에만 있는 역: ['교대(법원, 검찰청)']\n",
      "\n",
      "4호선 비교:\n",
      "역 개수: seoul_subway_df 26개, subway_df 26개\n",
      "seoul_subway_df에만 있는 역: ['미아사거리', '서울역']\n",
      "subway_df에만 있는 역: ['미아사거리 ', '서울']\n",
      "\n",
      "5호선 비교:\n",
      "역 개수: seoul_subway_df 56개, subway_df 56개\n",
      "seoul_subway_df에만 있는 역: ['종로3가']\n",
      "subway_df에만 있는 역: ['종로3가(탑골공원)']\n",
      "\n",
      "6호선 비교:\n",
      "역 개수: seoul_subway_df 39개, subway_df 39개\n",
      "두 데이터프레임의 역이 완전히 일치합니다.\n",
      "\n",
      "7호선 비교:\n",
      "역 개수: seoul_subway_df 42개, subway_df 42개\n",
      "seoul_subway_df에만 있는 역: ['자양(뚝섬한강공원)']\n",
      "subway_df에만 있는 역: ['자양(뚝섬유원지)']\n",
      "\n",
      "8호선 비교:\n",
      "역 개수: seoul_subway_df 19개, subway_df 19개\n",
      "seoul_subway_df에만 있는 역: ['남한산성입구(성남법원.검찰청)', '암사역사공원']\n",
      "subway_df에만 있는 역: ['남한산성입구(성남법원?검찰청)', '암사역사공원역']\n",
      "\n",
      "9호선 비교:\n",
      "역 개수: seoul_subway_df 38개, subway_df 13개\n",
      "seoul_subway_df에만 있는 역: ['가양', '개화', '고속터미널', '공항시장', '구반포', '국회의사당', '김포공항', '노들', '노량진', '당산', '동작(현충원)', '등촌', '마곡나루(서울식물원)', '사평', '샛강', '선유도', '신논현', '신목동', '신반포', '신방화', '양천향교', '여의도', '염창', '증미', '흑석(중앙대입구)']\n"
     ]
    }
   ],
   "source": [
    "# 각 데이터프레임의 line별 역 목록 생성\n",
    "def get_stations_by_line(df):\n",
    "    return {line: set(group['name']) for line, group in df.groupby('line')}\n",
    "\n",
    "# 두 데이터프레임의 line별 역 목록 생성\n",
    "seoul_stations = get_stations_by_line(seoul_subway_df)\n",
    "all_stations = get_stations_by_line(subway_df)\n",
    "\n",
    "# 공통된 line들 찾기\n",
    "common_lines = set(seoul_stations.keys()) & set(all_stations.keys())\n",
    "\n",
    "# line별로 비교\n",
    "for line in sorted(common_lines):\n",
    "    seoul_set = seoul_stations[line]\n",
    "    all_set = all_stations[line]\n",
    "    \n",
    "    print(f\"\\n{line} 비교:\")\n",
    "    print(f\"역 개수: seoul_subway_df {len(seoul_set)}개, subway_df {len(all_set)}개\")\n",
    "    \n",
    "    # 차이점 있는 경우만 출력\n",
    "    only_in_seoul = seoul_set - all_set\n",
    "    only_in_all = all_set - seoul_set\n",
    "    \n",
    "    if only_in_seoul:\n",
    "        print(f\"seoul_subway_df에만 있는 역:\", sorted(only_in_seoul))\n",
    "    if only_in_all:\n",
    "        print(f\"subway_df에만 있는 역:\", sorted(only_in_all))\n",
    "    if not only_in_seoul and not only_in_all:\n",
    "        print(\"두 데이터프레임의 역이 완전히 일치합니다.\")"
   ]
  },
  {
   "cell_type": "code",
   "execution_count": 221,
   "metadata": {},
   "outputs": [],
   "source": [
    "def clean_station_name(name):\n",
    "    # 공백 제거\n",
    "    name = name.strip()\n",
    "    # '역' 제거 (끝에 있는 경우)\n",
    "    name = name.rstrip('역')\n",
    "    # 괄호 안 구분자 통일\n",
    "    name = name.replace('?', '.').replace(', ', '.')\n",
    "    # 기타 정규화 작업\n",
    "    name = name.replace('서울역', '서울')\n",
    "    name = name.replace('서울', '서울역')\n",
    "    name = name.replace('신촌(지하)', '신촌')\n",
    "    name = name.replace('신촌', '신촌(지하)')\n",
    "    name = name.replace('종로3가(탑골공원)', '종로3가')\n",
    "    name = name.replace('종로3가', '종로3가(탑골공원)')\n",
    "    name = name.replace('자양(뚝섬유원지)', '자양(뚝섬한강공원)')\n",
    "\n",
    "    return name\n",
    "\n",
    "# 데이터프레임에 적용\n",
    "seoul_subway_df['name'] = seoul_subway_df['name'].apply(clean_station_name)\n",
    "subway_df['name'] = subway_df['name'].apply(clean_station_name)"
   ]
  },
  {
   "cell_type": "code",
   "execution_count": 222,
   "metadata": {},
   "outputs": [
    {
     "name": "stdout",
     "output_type": "stream",
     "text": [
      "\n",
      "1호선 비교:\n",
      "역 개수: seoul_subway_df 10개, subway_df 10개\n",
      "두 데이터프레임의 역이 완전히 일치합니다.\n",
      "\n",
      "2호선 비교:\n",
      "역 개수: seoul_subway_df 50개, subway_df 50개\n",
      "두 데이터프레임의 역이 완전히 일치합니다.\n",
      "\n",
      "3호선 비교:\n",
      "역 개수: seoul_subway_df 34개, subway_df 34개\n",
      "두 데이터프레임의 역이 완전히 일치합니다.\n",
      "\n",
      "4호선 비교:\n",
      "역 개수: seoul_subway_df 26개, subway_df 26개\n",
      "두 데이터프레임의 역이 완전히 일치합니다.\n",
      "\n",
      "5호선 비교:\n",
      "역 개수: seoul_subway_df 56개, subway_df 56개\n",
      "두 데이터프레임의 역이 완전히 일치합니다.\n",
      "\n",
      "6호선 비교:\n",
      "역 개수: seoul_subway_df 39개, subway_df 39개\n",
      "두 데이터프레임의 역이 완전히 일치합니다.\n",
      "\n",
      "7호선 비교:\n",
      "역 개수: seoul_subway_df 42개, subway_df 42개\n",
      "두 데이터프레임의 역이 완전히 일치합니다.\n",
      "\n",
      "8호선 비교:\n",
      "역 개수: seoul_subway_df 19개, subway_df 19개\n",
      "두 데이터프레임의 역이 완전히 일치합니다.\n",
      "\n",
      "9호선 비교:\n",
      "역 개수: seoul_subway_df 38개, subway_df 13개\n",
      "seoul_subway_df에만 있는 역: ['가양', '개화', '고속터미널', '공항시장', '구반포', '국회의사당', '김포공항', '노들', '노량진', '당산', '동작(현충원)', '등촌', '마곡나루(서울역식물원)', '사평', '샛강', '선유도', '신논현', '신목동', '신반포', '신방화', '양천향교', '여의도', '염창', '증미', '흑석(중앙대입구)']\n"
     ]
    }
   ],
   "source": [
    "# 각 데이터프레임의 line별 역 목록 생성\n",
    "def get_stations_by_line(df):\n",
    "    return {line: set(group['name']) for line, group in df.groupby('line')}\n",
    "\n",
    "# 두 데이터프레임의 line별 역 목록 생성\n",
    "seoul_stations = get_stations_by_line(seoul_subway_df)\n",
    "all_stations = get_stations_by_line(subway_df)\n",
    "\n",
    "# 공통된 line들 찾기\n",
    "common_lines = set(seoul_stations.keys()) & set(all_stations.keys())\n",
    "\n",
    "# line별로 비교\n",
    "for line in sorted(common_lines):\n",
    "    seoul_set = seoul_stations[line]\n",
    "    all_set = all_stations[line]\n",
    "    \n",
    "    print(f\"\\n{line} 비교:\")\n",
    "    print(f\"역 개수: seoul_subway_df {len(seoul_set)}개, subway_df {len(all_set)}개\")\n",
    "    \n",
    "    # 차이점 있는 경우만 출력\n",
    "    only_in_seoul = seoul_set - all_set\n",
    "    only_in_all = all_set - seoul_set\n",
    "    \n",
    "    if only_in_seoul:\n",
    "        print(f\"seoul_subway_df에만 있는 역:\", sorted(only_in_seoul))\n",
    "    if only_in_all:\n",
    "        print(f\"subway_df에만 있는 역:\", sorted(only_in_all))\n",
    "    if not only_in_seoul and not only_in_all:\n",
    "        print(\"두 데이터프레임의 역이 완전히 일치합니다.\")"
   ]
  },
  {
   "cell_type": "markdown",
   "metadata": {},
   "source": [
    "seoul_subway_df만 사용 결정"
   ]
  },
  {
   "cell_type": "code",
   "execution_count": 223,
   "metadata": {},
   "outputs": [
    {
     "data": {
      "text/plain": [
       "line\n",
       "1호선         10\n",
       "2호선         50\n",
       "3호선         34\n",
       "4호선         26\n",
       "5호선         56\n",
       "6호선         39\n",
       "7호선         42\n",
       "8호선         19\n",
       "9호선         38\n",
       "경강선         12\n",
       "경부선         39\n",
       "경원선         33\n",
       "경의선         29\n",
       "경인선         20\n",
       "경춘선         19\n",
       "공항철도 1호선    14\n",
       "과천선          8\n",
       "분당선         35\n",
       "서해선          3\n",
       "수인선         18\n",
       "신림선         11\n",
       "안산선         13\n",
       "우이신설선       13\n",
       "일산선         11\n",
       "장항선          7\n",
       "중앙선         21\n",
       "Name: name, dtype: int64"
      ]
     },
     "execution_count": 223,
     "metadata": {},
     "output_type": "execute_result"
    }
   ],
   "source": [
    "seoul_subway_df.groupby('line')['name'].count().sort_index()"
   ]
  },
  {
   "cell_type": "code",
   "execution_count": 138,
   "metadata": {},
   "outputs": [
    {
     "name": "stdout",
     "output_type": "stream",
     "text": [
      "<class 'pandas.core.frame.DataFrame'>\n",
      "Index: 15 entries, 60 to 275\n",
      "Data columns (total 5 columns):\n",
      " #   Column  Non-Null Count  Dtype \n",
      "---  ------  --------------  ----- \n",
      " 0   line    15 non-null     object\n",
      " 1   name    15 non-null     object\n",
      " 2   city    15 non-null     object\n",
      " 3   gu      15 non-null     object\n",
      " 4   dong    15 non-null     object\n",
      "dtypes: object(5)\n",
      "memory usage: 720.0+ bytes\n"
     ]
    }
   ],
   "source": [
    "non_seoul = subway_df[subway_df['city'] != \"서울특별시\"]\n",
    "non_seoul.info()"
   ]
  },
  {
   "cell_type": "code",
   "execution_count": 139,
   "metadata": {},
   "outputs": [
    {
     "name": "stdout",
     "output_type": "stream",
     "text": [
      "<class 'pandas.core.frame.DataFrame'>\n",
      "Index: 274 entries, 0 to 288\n",
      "Data columns (total 5 columns):\n",
      " #   Column  Non-Null Count  Dtype \n",
      "---  ------  --------------  ----- \n",
      " 0   line    274 non-null    object\n",
      " 1   name    274 non-null    object\n",
      " 2   city    274 non-null    object\n",
      " 3   gu      274 non-null    object\n",
      " 4   dong    274 non-null    object\n",
      "dtypes: object(5)\n",
      "memory usage: 12.8+ KB\n"
     ]
    },
    {
     "data": {
      "text/plain": [
       "(None,\n",
       "   line  name   city   gu                  dong\n",
       " 0  1호선    서울  서울특별시   중구  남대문로5가 73-6 서울역(1호선)\n",
       " 1  1호선    시청  서울특별시   중구       정동 5-5 시청역(1호선)\n",
       " 2  1호선    종각  서울특별시  종로구      종로1가 54 종각역(1호선)\n",
       " 3  1호선  종로3가  서울특별시  종로구  종로3가 10-5 종로3가역(1호선)\n",
       " 4  1호선  종로5가  서울특별시  종로구  종로5가 82-1 종로5가역(1호선))"
      ]
     },
     "execution_count": 139,
     "metadata": {},
     "output_type": "execute_result"
    }
   ],
   "source": [
    "seoul_df = subway_df[subway_df['city'] == \"서울특별시\"]\n",
    "seoul_df.info(), seoul_df.head()"
   ]
  },
  {
   "cell_type": "code",
   "execution_count": 140,
   "metadata": {},
   "outputs": [],
   "source": [
    "# 1. seoul_df의 dong 컬럼 전처리 (주소에서 동 이름만 추출)\n",
    "def extract_dong(address):\n",
    "    # 공백으로 분리하고 첫 번째 단어(동 이름이 있는 부분)만 가져옴\n",
    "    dong_part = address.split()[0]\n",
    "    # 하이픈 이후의 문자열 제거\n",
    "    dong_name = dong_part.split('-')[0]\n",
    "    return dong_name"
   ]
  },
  {
   "cell_type": "code",
   "execution_count": 141,
   "metadata": {},
   "outputs": [
    {
     "name": "stderr",
     "output_type": "stream",
     "text": [
      "C:\\Users\\human\\AppData\\Local\\Temp\\ipykernel_4604\\1697857905.py:2: SettingWithCopyWarning: \n",
      "A value is trying to be set on a copy of a slice from a DataFrame.\n",
      "Try using .loc[row_indexer,col_indexer] = value instead\n",
      "\n",
      "See the caveats in the documentation: https://pandas.pydata.org/pandas-docs/stable/user_guide/indexing.html#returning-a-view-versus-a-copy\n",
      "  seoul_df['dong_clean'] = seoul_df['dong'].apply(extract_dong)\n"
     ]
    }
   ],
   "source": [
    "# dong 컬럼 전처리\n",
    "seoul_df['dong_clean'] = seoul_df['dong'].apply(extract_dong)"
   ]
  },
  {
   "cell_type": "code",
   "execution_count": 142,
   "metadata": {},
   "outputs": [
    {
     "name": "stderr",
     "output_type": "stream",
     "text": [
      "C:\\Users\\human\\AppData\\Local\\Temp\\ipykernel_4604\\1446007410.py:2: SettingWithCopyWarning: \n",
      "A value is trying to be set on a copy of a slice from a DataFrame.\n",
      "Try using .loc[row_indexer,col_indexer] = value instead\n",
      "\n",
      "See the caveats in the documentation: https://pandas.pydata.org/pandas-docs/stable/user_guide/indexing.html#returning-a-view-versus-a-copy\n",
      "  seoul_df['legal_dong'] = None\n"
     ]
    }
   ],
   "source": [
    "# 2. 법정동 정보 추가\n",
    "seoul_df['legal_dong'] = None"
   ]
  },
  {
   "cell_type": "code",
   "execution_count": 143,
   "metadata": {},
   "outputs": [],
   "source": [
    "# 3. 각 행에 대해 매칭되는 법정동 찾기\n",
    "for idx, row in seoul_df.iterrows():\n",
    "    matching_dong = l_dong_df[(l_dong_df['gu'] == row['gu']) & \n",
    "                             (l_dong_df['dong'] == row['dong_clean'])]\n",
    "    if not matching_dong.empty:\n",
    "        seoul_df.at[idx, 'legal_dong'] = matching_dong.iloc[0]['dong']"
   ]
  },
  {
   "cell_type": "code",
   "execution_count": 144,
   "metadata": {},
   "outputs": [],
   "source": [
    "# 4. 임시로 만든 dong_clean 컬럼 제거\n",
    "seoul_df = seoul_df.drop('dong_clean', axis=1)\n",
    "\n",
    "# 5. dong 컬럼 제거\n",
    "seoul_df = seoul_df.drop('dong', axis=1)"
   ]
  },
  {
   "cell_type": "code",
   "execution_count": 145,
   "metadata": {},
   "outputs": [
    {
     "name": "stdout",
     "output_type": "stream",
     "text": [
      "<class 'pandas.core.frame.DataFrame'>\n",
      "Index: 274 entries, 0 to 288\n",
      "Data columns (total 5 columns):\n",
      " #   Column      Non-Null Count  Dtype \n",
      "---  ------      --------------  ----- \n",
      " 0   line        274 non-null    object\n",
      " 1   name        274 non-null    object\n",
      " 2   city        274 non-null    object\n",
      " 3   gu          274 non-null    object\n",
      " 4   legal_dong  274 non-null    object\n",
      "dtypes: object(5)\n",
      "memory usage: 20.9+ KB\n"
     ]
    }
   ],
   "source": [
    "seoul_df.info()"
   ]
  },
  {
   "cell_type": "code",
   "execution_count": 146,
   "metadata": {},
   "outputs": [
    {
     "name": "stdout",
     "output_type": "stream",
     "text": [
      "  line          name   city    gu legal_dong\n",
      "0  1호선            서울  서울특별시    중구     남대문로5가\n",
      "1  1호선            시청  서울특별시    중구         정동\n",
      "2  1호선            종각  서울특별시   종로구       종로1가\n",
      "3  1호선          종로3가  서울특별시   종로구       종로3가\n",
      "4  1호선          종로5가  서울특별시   종로구       종로5가\n",
      "5  1호선           동대문  서울특별시   종로구        창신동\n",
      "6  1호선           신설동  서울특별시  동대문구        신설동\n",
      "7  1호선           제기동  서울특별시  동대문구        제기동\n",
      "8  1호선  청량리(서울시립대입구)  서울특별시  동대문구        전농동\n",
      "9  1호선           동묘앞  서울특별시   종로구        숭인동\n"
     ]
    }
   ],
   "source": [
    "# 결과 확인\n",
    "print(seoul_df.head(10))"
   ]
  },
  {
   "cell_type": "code",
   "execution_count": 147,
   "metadata": {},
   "outputs": [
    {
     "name": "stdout",
     "output_type": "stream",
     "text": [
      "법정동별 지하철 역 개수:\n",
      "legal_dong\n",
      "상계동      6\n",
      "삼성동      6\n",
      "신당동      6\n",
      "가락동      5\n",
      "서초동      5\n",
      "        ..\n",
      "보문동1가    1\n",
      "문정동      1\n",
      "문래동3가    1\n",
      "묵동       1\n",
      "흥인동      1\n",
      "Name: name, Length: 164, dtype: int64\n"
     ]
    }
   ],
   "source": [
    "# legal_dong별 지하철 역 개수 계산\n",
    "station_count = seoul_df.groupby('legal_dong')['name'].count().sort_values(ascending=False)\n",
    "\n",
    "# 결과 확인\n",
    "print(\"법정동별 지하철 역 개수:\")\n",
    "print(station_count)"
   ]
  },
  {
   "cell_type": "code",
   "execution_count": 148,
   "metadata": {},
   "outputs": [
    {
     "name": "stdout",
     "output_type": "stream",
     "text": [
      "구별 지하철 역 개수:\n",
      "gu\n",
      "송파구     28\n",
      "중구      23\n",
      "강남구     21\n",
      "마포구     16\n",
      "종로구     15\n",
      "강동구     15\n",
      "성동구     14\n",
      "은평구     13\n",
      "노원구     13\n",
      "서초구     12\n",
      "동작구     12\n",
      "영등포구    11\n",
      "광진구     11\n",
      "용산구     10\n",
      "성북구      9\n",
      "강서구      9\n",
      "중랑구      8\n",
      "구로구      7\n",
      "동대문구     6\n",
      "서대문구     5\n",
      "양천구      5\n",
      "관악구      4\n",
      "도봉구      3\n",
      "강북구      3\n",
      "금천구      1\n",
      "Name: name, dtype: int64\n"
     ]
    }
   ],
   "source": [
    "# gu별 지하철 역 개수 계산\n",
    "station_count_by_gu = seoul_df.groupby('gu')['name'].count().sort_values(ascending=False)\n",
    "\n",
    "# 결과 확인\n",
    "print(\"구별 지하철 역 개수:\")\n",
    "print(station_count_by_gu)"
   ]
  },
  {
   "cell_type": "code",
   "execution_count": null,
   "metadata": {},
   "outputs": [],
   "source": []
  }
 ],
 "metadata": {
  "kernelspec": {
   "display_name": "myenv",
   "language": "python",
   "name": "python3"
  },
  "language_info": {
   "codemirror_mode": {
    "name": "ipython",
    "version": 3
   },
   "file_extension": ".py",
   "mimetype": "text/x-python",
   "name": "python",
   "nbconvert_exporter": "python",
   "pygments_lexer": "ipython3",
   "version": "3.9.20"
  }
 },
 "nbformat": 4,
 "nbformat_minor": 2
}
