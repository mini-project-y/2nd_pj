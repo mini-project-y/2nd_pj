{
 "cells": [
  {
   "cell_type": "markdown",
   "metadata": {},
   "source": [
    "# 지하철역과 행정구 연결"
   ]
  },
  {
   "cell_type": "code",
   "execution_count": 2,
   "metadata": {},
   "outputs": [],
   "source": [
    "import pandas as pd\n",
    "import numpy as np\n",
    "import matplotlib.pyplot as plt\n",
    "import seaborn as sns\n",
    "\n",
    "# 맷플롯립 한글 사용 가능\n",
    "import matplotlib.pyplot as plt\n",
    "plt.rcParams['font.family'] ='Malgun Gothic'\n",
    "plt.rcParams['axes.unicode_minus'] =False"
   ]
  },
  {
   "cell_type": "markdown",
   "metadata": {},
   "source": [
    "### 1. 데이터 읽기"
   ]
  },
  {
   "cell_type": "code",
   "execution_count": 3,
   "metadata": {},
   "outputs": [],
   "source": [
    "stations_df = pd.read_csv('../4.Public_transportation/Subway_station_address.csv',\n",
    "                          encoding=\"CP949\")\n",
    "stations_df.columns = ['line', 'station_name', 'old_address', 'new_address', 'phone_number']"
   ]
  },
  {
   "cell_type": "markdown",
   "metadata": {},
   "source": [
    "### 2. 구 목록 생성"
   ]
  },
  {
   "cell_type": "code",
   "execution_count": 4,
   "metadata": {},
   "outputs": [],
   "source": [
    "districts = [\n",
    "    '종로구', '중구', '용산구', '성동구', '광진구', '동대문구', '중랑구', '성북구', \n",
    "    '강북구', '도봉구', '노원구', '은평구', '서대문구', '마포구', '양천구', '강서구', \n",
    "    '구로구', '금천구', '영등포구', '동작구', '관악구', '서초구', '강남구', '송파구', '강동구'\n",
    "]"
   ]
  },
  {
   "cell_type": "markdown",
   "metadata": {},
   "source": [
    "### 3. 구 추출 함수 정의"
   ]
  },
  {
   "cell_type": "code",
   "execution_count": 5,
   "metadata": {},
   "outputs": [],
   "source": [
    "def extract_district(address):\n",
    "    for district in districts:\n",
    "        if district in address:\n",
    "            return district\n",
    "    return None"
   ]
  },
  {
   "cell_type": "markdown",
   "metadata": {},
   "source": [
    "### 4. 구 추출 및 구 정보 사용"
   ]
  },
  {
   "cell_type": "code",
   "execution_count": 6,
   "metadata": {},
   "outputs": [
    {
     "name": "stdout",
     "output_type": "stream",
     "text": [
      "<class 'pandas.core.frame.DataFrame'>\n",
      "RangeIndex: 289 entries, 0 to 288\n",
      "Data columns (total 8 columns):\n",
      " #   Column             Non-Null Count  Dtype \n",
      "---  ------             --------------  ----- \n",
      " 0   line               289 non-null    object\n",
      " 1   station_name       289 non-null    object\n",
      " 2   old_address        289 non-null    object\n",
      " 3   new_address        289 non-null    object\n",
      " 4   phone_number       289 non-null    object\n",
      " 5   district_from_old  274 non-null    object\n",
      " 6   district_from_new  274 non-null    object\n",
      " 7   district           274 non-null    object\n",
      "dtypes: object(8)\n",
      "memory usage: 18.2+ KB\n"
     ]
    },
    {
     "data": {
      "text/plain": [
       "Index(['line', 'station_name', 'old_address', 'new_address', 'phone_number',\n",
       "       'district_from_old', 'district_from_new', 'district'],\n",
       "      dtype='object')"
      ]
     },
     "execution_count": 6,
     "metadata": {},
     "output_type": "execute_result"
    }
   ],
   "source": [
    "# 구주소와 도로명주소에서 구 추출\n",
    "stations_df['district_from_old'] = stations_df['old_address'].apply(extract_district)\n",
    "stations_df['district_from_new'] = stations_df['new_address'].apply(extract_district)\n",
    "\n",
    "# 구주소와 도로명주소 중 하나라도 있는 구 정보 사용\n",
    "stations_df['district'] = \\\n",
    "    stations_df['district_from_old'].combine_first(stations_df['district_from_new'])\n",
    "\n",
    "# 구 확인\n",
    "stations_df.info()\n",
    "stations_df.columns"
   ]
  },
  {
   "cell_type": "markdown",
   "metadata": {},
   "source": [
    "### 5. 데이터 프레임 정리"
   ]
  },
  {
   "cell_type": "code",
   "execution_count": 7,
   "metadata": {},
   "outputs": [
    {
     "name": "stdout",
     "output_type": "stream",
     "text": [
      "<class 'pandas.core.frame.DataFrame'>\n",
      "RangeIndex: 289 entries, 0 to 288\n",
      "Data columns (total 3 columns):\n",
      " #   Column        Non-Null Count  Dtype \n",
      "---  ------        --------------  ----- \n",
      " 0   line          289 non-null    object\n",
      " 1   station_name  289 non-null    object\n",
      " 2   district      274 non-null    object\n",
      "dtypes: object(3)\n",
      "memory usage: 6.9+ KB\n"
     ]
    }
   ],
   "source": [
    "stations_df = stations_df[['line', 'station_name', 'district']]\n",
    "stations_df.info()"
   ]
  },
  {
   "cell_type": "markdown",
   "metadata": {},
   "source": [
    "### 6. 구 정보가 있는 역만 필터링 (경기도 제외)"
   ]
  },
  {
   "cell_type": "code",
   "execution_count": 8,
   "metadata": {},
   "outputs": [],
   "source": [
    "seoul_stations_df = stations_df.dropna(subset=['district'])"
   ]
  },
  {
   "cell_type": "markdown",
   "metadata": {},
   "source": [
    "### 7. 구별 지하철역 수 계산"
   ]
  },
  {
   "cell_type": "code",
   "execution_count": 9,
   "metadata": {},
   "outputs": [],
   "source": [
    "station_counts = \\\n",
    "    seoul_stations_df.groupby('district').size().reindex(districts).fillna(0).astype('int8')"
   ]
  },
  {
   "cell_type": "markdown",
   "metadata": {},
   "source": [
    "### 8. 결과 출력"
   ]
  },
  {
   "cell_type": "code",
   "execution_count": 10,
   "metadata": {},
   "outputs": [
    {
     "name": "stdout",
     "output_type": "stream",
     "text": [
      "\n",
      "Total stations: 289\n",
      "Seoul stations: 274\n",
      "Excluded stations: 15\n",
      "\n",
      "Number of subway stations by district in Seoul:\n",
      "district\n",
      "송파구     28\n",
      "중구      23\n",
      "강남구     21\n",
      "마포구     16\n",
      "종로구     15\n",
      "강동구     15\n",
      "성동구     14\n",
      "노원구     13\n",
      "은평구     13\n",
      "서초구     12\n",
      "동작구     12\n",
      "영등포구    11\n",
      "광진구     11\n",
      "용산구     10\n",
      "강서구      9\n",
      "성북구      9\n",
      "중랑구      8\n",
      "구로구      7\n",
      "동대문구     6\n",
      "양천구      5\n",
      "서대문구     5\n",
      "관악구      4\n",
      "도봉구      3\n",
      "강북구      3\n",
      "금천구      1\n",
      "dtype: int8\n",
      "<class 'pandas.core.frame.DataFrame'>\n",
      "Index: 274 entries, 0 to 288\n",
      "Data columns (total 3 columns):\n",
      " #   Column        Non-Null Count  Dtype \n",
      "---  ------        --------------  ----- \n",
      " 0   line          274 non-null    object\n",
      " 1   station_name  274 non-null    object\n",
      " 2   district      274 non-null    object\n",
      "dtypes: object(3)\n",
      "memory usage: 8.6+ KB\n",
      "<class 'pandas.core.frame.DataFrame'>\n",
      "RangeIndex: 289 entries, 0 to 288\n",
      "Data columns (total 3 columns):\n",
      " #   Column        Non-Null Count  Dtype \n",
      "---  ------        --------------  ----- \n",
      " 0   line          289 non-null    object\n",
      " 1   station_name  289 non-null    object\n",
      " 2   district      274 non-null    object\n",
      "dtypes: object(3)\n",
      "memory usage: 6.9+ KB\n"
     ]
    },
    {
     "data": {
      "text/plain": [
       "(None, None)"
      ]
     },
     "execution_count": 10,
     "metadata": {},
     "output_type": "execute_result"
    }
   ],
   "source": [
    "print(f\"\\nTotal stations: {len(stations_df)}\")\n",
    "print(f\"Seoul stations: {len(seoul_stations_df)}\")\n",
    "print(f\"Excluded stations: {len(stations_df) - len(seoul_stations_df)}\")\n",
    "\n",
    "print(\"\\nNumber of subway stations by district in Seoul:\")\n",
    "print(station_counts.sort_values(ascending=False))\n",
    "\n",
    "seoul_stations_df.info(), stations_df.info()"
   ]
  },
  {
   "cell_type": "markdown",
   "metadata": {},
   "source": [
    "### 9. 시각화"
   ]
  },
  {
   "cell_type": "code",
   "execution_count": 11,
   "metadata": {},
   "outputs": [
    {
     "data": {
      "image/png": "[encoded data removed]",
      "text/plain": [
       "<Figure size 1500x800 with 1 Axes>"
      ]
     },
     "metadata": {},
     "output_type": "display_data"
    }
   ],
   "source": [
    "plt.figure(figsize=(15, 8))\n",
    "sns.barplot(x=station_counts.index, y=station_counts.values)\n",
    "plt.xticks(rotation=45, ha='right')\n",
    "plt.title('Number of Subway Stations by District in Seoul')\n",
    "plt.xlabel('District')\n",
    "plt.ylabel('Number of Stations')\n",
    "plt.tight_layout()\n",
    "plt.show()"
   ]
  },
  {
   "cell_type": "markdown",
   "metadata": {},
   "source": [
    "### 10. 제외된 역 확인"
   ]
  },
  {
   "cell_type": "code",
   "execution_count": 12,
   "metadata": {},
   "outputs": [
    {
     "name": "stdout",
     "output_type": "stream",
     "text": [
      "\n",
      "List of excluded stations:\n",
      "    line      station_name\n",
      "60   3호선                지축\n",
      "172  5호선                미사\n",
      "173  5호선              하남풍산\n",
      "174  5호선       하남시청(덕풍?신장)\n",
      "175  5호선             하남검단산\n",
      "215  7호선                장암\n",
      "253  7호선                철산\n",
      "254  7호선             광명사거리\n",
      "269  8호선               남위례\n",
      "270  8호선                산성\n",
      "271  8호선  남한산성입구(성남법원?검찰청)\n",
      "272  8호선             단대오거리\n",
      "273  8호선                신흥\n",
      "274  8호선                수진\n",
      "275  8호선                모란\n"
     ]
    }
   ],
   "source": [
    "print(\"\\nList of excluded stations:\")\n",
    "excluded_stations = stations_df[stations_df['district'].isna()]\n",
    "print(excluded_stations[['line', 'station_name']])"
   ]
  },
  {
   "cell_type": "markdown",
   "metadata": {},
   "source": [
    "### 11. 결과저장"
   ]
  },
  {
   "cell_type": "code",
   "execution_count": 13,
   "metadata": {},
   "outputs": [
    {
     "name": "stdout",
     "output_type": "stream",
     "text": [
      "<class 'pandas.core.frame.DataFrame'>\n",
      "RangeIndex: 289 entries, 0 to 288\n",
      "Data columns (total 3 columns):\n",
      " #   Column        Non-Null Count  Dtype \n",
      "---  ------        --------------  ----- \n",
      " 0   line          289 non-null    object\n",
      " 1   station_name  289 non-null    object\n",
      " 2   district      274 non-null    object\n",
      "dtypes: object(3)\n",
      "memory usage: 6.9+ KB\n",
      "<class 'pandas.core.frame.DataFrame'>\n",
      "Index: 274 entries, 0 to 288\n",
      "Data columns (total 3 columns):\n",
      " #   Column        Non-Null Count  Dtype \n",
      "---  ------        --------------  ----- \n",
      " 0   line          274 non-null    object\n",
      " 1   station_name  274 non-null    object\n",
      " 2   district      274 non-null    object\n",
      "dtypes: object(3)\n",
      "memory usage: 8.6+ KB\n",
      "<class 'pandas.core.frame.DataFrame'>\n",
      "Index: 15 entries, 60 to 275\n",
      "Data columns (total 3 columns):\n",
      " #   Column        Non-Null Count  Dtype \n",
      "---  ------        --------------  ----- \n",
      " 0   line          15 non-null     object\n",
      " 1   station_name  15 non-null     object\n",
      " 2   district      0 non-null      object\n",
      "dtypes: object(3)\n",
      "memory usage: 480.0+ bytes\n"
     ]
    },
    {
     "data": {
      "text/plain": [
       "(None, None, None)"
      ]
     },
     "execution_count": 13,
     "metadata": {},
     "output_type": "execute_result"
    }
   ],
   "source": [
    "stations_df.info(), seoul_stations_df.info(), excluded_stations.info()"
   ]
  },
  {
   "cell_type": "code",
   "execution_count": 14,
   "metadata": {},
   "outputs": [],
   "source": [
    "stations_df.to_csv(\"Data_Preprocessing/4_stations_total.csv\", index=False)\n",
    "seoul_stations_df.to_csv(\"Data_Preprocessing/4_seoul_stations.csv\", index=False)\n",
    "excluded_stations.to_csv(\"Data_Preprocessing/4_stations_outside_seoul.csv\", index=False)"
   ]
  }
 ],
 "metadata": {
  "kernelspec": {
   "display_name": "myenv",
   "language": "python",
   "name": "python3"
  },
  "language_info": {
   "codemirror_mode": {
    "name": "ipython",
    "version": 3
   },
   "file_extension": ".py",
   "mimetype": "text/x-python",
   "name": "python",
   "nbconvert_exporter": "python",
   "pygments_lexer": "ipython3",
   "version": "3.9.20"
  }
 },
 "nbformat": 4,
 "nbformat_minor": 2
}
