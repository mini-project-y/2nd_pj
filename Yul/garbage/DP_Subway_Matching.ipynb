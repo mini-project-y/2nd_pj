{
 "cells": [
  {
   "cell_type": "code",
   "execution_count": 115,
   "metadata": {},
   "outputs": [],
   "source": [
    "import pandas as pd\n",
    "import numpy as np\n",
    "import matplotlib.pyplot as plt\n",
    "import seaborn as sns\n",
    "\n",
    "# 맷플롯립 한글 사용 가능\n",
    "import matplotlib.pyplot as plt\n",
    "plt.rcParams['font.family'] ='Malgun Gothic'\n",
    "plt.rcParams['axes.unicode_minus'] =False"
   ]
  },
  {
   "cell_type": "code",
   "execution_count": 116,
   "metadata": {},
   "outputs": [],
   "source": [
    "station_2015 = pd.read_csv('forDP/subway/station_list_2015.csv')\n",
    "station_2016 = pd.read_csv('forDP/subway/station_list_2016.csv')\n",
    "station_2017 = pd.read_csv('forDP/subway/station_list_2017.csv')\n",
    "station_2018 = pd.read_csv('forDP/subway/station_list_2018.csv')\n",
    "station_2019 = pd.read_csv('forDP/subway/station_list_2019.csv')\n",
    "station_2020 = pd.read_csv('forDP/subway/station_list_2020.csv')\n",
    "station_2021 = pd.read_csv('forDP/subway/station_list_2021.csv')\n",
    "station_2022 = pd.read_csv('forDP/subway/station_list_2022.csv')\n",
    "station_2023 = pd.read_csv('forDP/subway/station_list_2023.csv')\n",
    "station_2024 = pd.read_csv('forDP/subway/station_list_2024.csv')"
   ]
  },
  {
   "cell_type": "code",
   "execution_count": 128,
   "metadata": {},
   "outputs": [],
   "source": [
    "add_1_3_4_else = pd.read_csv('forDP/subway/주소1호선3호선4호선수인분당선경춘선경의중안선.csv', encoding = \"CP949\")\n",
    "add_1_8 = pd.read_csv('forDP/subway/주소1호선-8호선.csv', encoding = \"CP949\")\n",
    "add_1_9 = pd.read_csv('forDP/subway/주소1호선-9호선.csv', encoding = \"CP949\")\n",
    "add_gcl = pd.read_csv('forDP/subway/주소경춘선.csv', encoding = \"CP949\")\n",
    "add_bl = pd.read_csv('forDP/subway/주소분당선.csv', encoding = \"CP949\")\n",
    "add_sbl = pd.read_csv('forDP/subway/주소수인분당.csv', encoding = \"CP949\")\n",
    "add_ul = pd.read_csv('forDP/subway/주소우이신설.csv', encoding = \"CP949\")"
   ]
  },
  {
   "cell_type": "code",
   "execution_count": 129,
   "metadata": {},
   "outputs": [
    {
     "name": "stdout",
     "output_type": "stream",
     "text": [
      "Index(['line', 'name', 'city_and_gu', 'dong'], dtype='object') \n",
      "\n",
      "Index(['line', 'name', 'city_and_gu', 'dong'], dtype='object') \n",
      "\n",
      "Index(['line', 'name', 'city_and_gu', 'dong'], dtype='object') \n",
      "\n",
      "Index(['철도운영기관명', '선명', '역명', '지번주소', '도로명주소'], dtype='object') \n",
      "\n",
      "Index(['철도운영기관명', '선명', '역명', '지번주소', '도로명주소'], dtype='object') \n",
      "\n",
      "Index(['철도운영기관명', '선명', '역명', '지번주소', '도로명주소'], dtype='object') \n",
      "\n",
      "Index(['철도운영기관명', '선명', '역명', '지번주소', '도로명주소'], dtype='object') \n",
      "\n"
     ]
    }
   ],
   "source": [
    "print(add_1_3_4_else.columns, '\\n')\n",
    "print(add_1_8.columns, '\\n')\n",
    "print(add_1_9.columns, '\\n')\n",
    "print(add_gcl.columns, '\\n')\n",
    "print(add_bl.columns, '\\n')\n",
    "print(add_sbl.columns, '\\n')\n",
    "print(add_ul.columns, '\\n')"
   ]
  },
  {
   "cell_type": "code",
   "execution_count": 130,
   "metadata": {},
   "outputs": [
    {
     "name": "stdout",
     "output_type": "stream",
     "text": [
      "<class 'pandas.core.frame.DataFrame'>\n",
      "RangeIndex: 270 entries, 0 to 269\n",
      "Data columns (total 4 columns):\n",
      " #   Column       Non-Null Count  Dtype \n",
      "---  ------       --------------  ----- \n",
      " 0   line         270 non-null    object\n",
      " 1   name         270 non-null    object\n",
      " 2   city_and_gu  270 non-null    object\n",
      " 3   dong         161 non-null    object\n",
      "dtypes: object(4)\n",
      "memory usage: 8.6+ KB\n",
      "<class 'pandas.core.frame.DataFrame'>\n",
      "RangeIndex: 277 entries, 0 to 276\n",
      "Data columns (total 4 columns):\n",
      " #   Column       Non-Null Count  Dtype \n",
      "---  ------       --------------  ----- \n",
      " 0   line         277 non-null    object\n",
      " 1   name         277 non-null    object\n",
      " 2   city_and_gu  277 non-null    object\n",
      " 3   dong         270 non-null    object\n",
      "dtypes: object(4)\n",
      "memory usage: 8.8+ KB\n",
      "<class 'pandas.core.frame.DataFrame'>\n",
      "RangeIndex: 289 entries, 0 to 288\n",
      "Data columns (total 4 columns):\n",
      " #   Column       Non-Null Count  Dtype \n",
      "---  ------       --------------  ----- \n",
      " 0   line         289 non-null    object\n",
      " 1   name         289 non-null    object\n",
      " 2   city_and_gu  289 non-null    object\n",
      " 3   dong         289 non-null    object\n",
      "dtypes: object(4)\n",
      "memory usage: 9.2+ KB\n",
      "<class 'pandas.core.frame.DataFrame'>\n",
      "RangeIndex: 25 entries, 0 to 24\n",
      "Data columns (total 5 columns):\n",
      " #   Column   Non-Null Count  Dtype \n",
      "---  ------   --------------  ----- \n",
      " 0   철도운영기관명  25 non-null     object\n",
      " 1   선명       25 non-null     object\n",
      " 2   역명       25 non-null     object\n",
      " 3   지번주소     25 non-null     object\n",
      " 4   도로명주소    25 non-null     object\n",
      "dtypes: object(5)\n",
      "memory usage: 1.1+ KB\n",
      "<class 'pandas.core.frame.DataFrame'>\n",
      "RangeIndex: 63 entries, 0 to 62\n",
      "Data columns (total 5 columns):\n",
      " #   Column   Non-Null Count  Dtype \n",
      "---  ------   --------------  ----- \n",
      " 0   철도운영기관명  63 non-null     object\n",
      " 1   선명       63 non-null     object\n",
      " 2   역명       63 non-null     object\n",
      " 3   지번주소     63 non-null     object\n",
      " 4   도로명주소    63 non-null     object\n",
      "dtypes: object(5)\n",
      "memory usage: 2.6+ KB\n",
      "<class 'pandas.core.frame.DataFrame'>\n",
      "RangeIndex: 63 entries, 0 to 62\n",
      "Data columns (total 5 columns):\n",
      " #   Column   Non-Null Count  Dtype \n",
      "---  ------   --------------  ----- \n",
      " 0   철도운영기관명  63 non-null     object\n",
      " 1   선명       63 non-null     object\n",
      " 2   역명       63 non-null     object\n",
      " 3   지번주소     63 non-null     object\n",
      " 4   도로명주소    63 non-null     object\n",
      "dtypes: object(5)\n",
      "memory usage: 2.6+ KB\n",
      "<class 'pandas.core.frame.DataFrame'>\n",
      "RangeIndex: 13 entries, 0 to 12\n",
      "Data columns (total 5 columns):\n",
      " #   Column   Non-Null Count  Dtype \n",
      "---  ------   --------------  ----- \n",
      " 0   철도운영기관명  13 non-null     object\n",
      " 1   선명       13 non-null     object\n",
      " 2   역명       13 non-null     object\n",
      " 3   지번주소     13 non-null     object\n",
      " 4   도로명주소    13 non-null     object\n",
      "dtypes: object(5)\n",
      "memory usage: 648.0+ bytes\n"
     ]
    }
   ],
   "source": [
    "add_1_3_4_else.info()\n",
    "add_1_8.info()\n",
    "add_1_9.info()\n",
    "add_gcl.info()\n",
    "add_bl.info()\n",
    "add_sbl.info()\n",
    "add_ul.info()"
   ]
  },
  {
   "cell_type": "code",
   "execution_count": 131,
   "metadata": {},
   "outputs": [],
   "source": [
    "# 필요 컬럼만 추출\n",
    "add_gcl = add_gcl[['선명', '역명', '지번주소']].copy()\n",
    "add_bl = add_bl[['선명', '역명', '지번주소']].copy()\n",
    "add_sbl = add_sbl[['선명', '역명', '지번주소']].copy()\n",
    "add_ul = add_ul[['선명', '역명', '지번주소']].copy()"
   ]
  },
  {
   "cell_type": "code",
   "execution_count": 132,
   "metadata": {},
   "outputs": [
    {
     "name": "stdout",
     "output_type": "stream",
     "text": [
      "add_gcl     선명           역명                        지번주소\n",
      "0   경춘  가평(자라섬·남이섬)         경기도 가평군 가평읍 달전리 567\n",
      "1   경춘           갈매              구리시 갈매동 502-39\n",
      "2   경춘           강촌     강원특별자치도 춘천시 남산면 방곡리 409\n",
      "4   경춘   굴봉산(제이드가든)  강원특별자치도 춘천시 남산면 백양리 588-30\n",
      "5   경춘           금곡        경기도 남양주시 금곡동 404-276\n",
      "6   경춘          김유정    강원특별자치도 춘천시 신동면 증리 945-2\n",
      "7   경춘     남춘천(강원대)               춘천시 퇴계동 633-2\n",
      "8   경춘          대성리       경기도 가평군 청평면 대성리 393-3\n",
      "9   경춘           마석     경기도 남양주시 화도읍 마석우리 222-2\n",
      "11  경춘  백양리(엘리시안강촌)   강원특별자치도 춘천시 남산면 강촌리 680-7\n",
      "12  경춘    별내(삼육대학교)          경기도 남양주시 별내동 182-5\n",
      "13  경춘           사릉      경기도 남양주시 진건읍 사능리 605-3\n",
      "15  경춘     상천(호명호수)      경기도 가평군 청평면 상천리 1260-1\n",
      "18  경춘          천마산     경기도 남양주시 화도읍 묵현리 320-11\n",
      "20  경춘           청평       경기도 가평군 청평면 청평리 125-1\n",
      "21  경춘      춘천(한림대)         강원특별자치도 춘천시 근화동 190\n",
      "22  경춘          퇴계원  경기도 남양주시 퇴계원면 퇴계원리 218-142\n",
      "23  경춘         평내호평            경기도 남양주시 평내동 660\n",
      "add_bl       선명    역명                   지번주소\n",
      "9   수인분당    달월      경기도 시흥시 월곶동 662-3\n",
      "14  수인분당  매탄권선      경기도 수원시 매탄동 687-4\n",
      "37  수인분당    야목  경기도 화성시 매송면 야목리 792-2\n",
      "39  수인분당    어천                어천리 411\n",
      "44  수인분당   오이도        경기도 시흥시 정왕동 878\n",
      "47  수인분당    월곶      경기도 시흥시 월곶동 992-9\n",
      "52  수인분당    정왕    경기도 시흥시 정왕동 2325-12\n",
      "add_sbl       선명    역명                   지번주소\n",
      "9   수인분당    달월      경기도 시흥시 월곶동 662-3\n",
      "14  수인분당  매탄권선      경기도 수원시 매탄동 687-4\n",
      "37  수인분당    야목  경기도 화성시 매송면 야목리 792-2\n",
      "39  수인분당    어천                어천리 411\n",
      "44  수인분당   오이도        경기도 시흥시 정왕동 878\n",
      "47  수인분당    월곶      경기도 시흥시 월곶동 992-9\n",
      "52  수인분당    정왕    경기도 시흥시 정왕동 2325-12\n",
      "add_ul Empty DataFrame\n",
      "Columns: [선명, 역명, 지번주소]\n",
      "Index: []\n"
     ]
    }
   ],
   "source": [
    "# '구 '가 없는 데이터 확인\n",
    "print('add_gcl', add_gcl[~add_gcl['지번주소'].str.contains('구 ')])\n",
    "print('add_bl', add_bl[~add_bl['지번주소'].str.contains('구 ')])\n",
    "print('add_sbl', add_sbl[~add_sbl['지번주소'].str.contains('구 ')])\n",
    "print('add_ul', add_ul[~add_ul['지번주소'].str.contains('구 ')])"
   ]
  },
  {
   "cell_type": "code",
   "execution_count": 133,
   "metadata": {},
   "outputs": [],
   "source": [
    "# '구 '가 있는 데이터만 남기기\n",
    "add_gcl = add_gcl[add_gcl['지번주소'].str.contains('구 ')]\n",
    "add_bl = add_bl[add_bl['지번주소'].str.contains('구 ')]\n",
    "add_sbl = add_sbl[add_sbl['지번주소'].str.contains('구 ')]\n",
    "add_ul = add_ul[add_ul['지번주소'].str.contains('구 ')]"
   ]
  },
  {
   "cell_type": "code",
   "execution_count": 134,
   "metadata": {},
   "outputs": [
    {
     "name": "stdout",
     "output_type": "stream",
     "text": [
      "add_gcl 행 수: 7\n",
      "add_bl 행 수: 56\n",
      "add_sbl 행 수: 56\n",
      "add_ul 행 수: 13\n"
     ]
    }
   ],
   "source": [
    "print('add_gcl 행 수:', len(add_gcl))\n",
    "print('add_bl 행 수:', len(add_bl))\n",
    "print('add_sbl 행 수:', len(add_sbl))\n",
    "print('add_ul 행 수:', len(add_ul))"
   ]
  },
  {
   "cell_type": "code",
   "execution_count": 135,
   "metadata": {},
   "outputs": [
    {
     "name": "stdout",
     "output_type": "stream",
     "text": [
      "\n",
      "add_gcl columns: ['line', 'name', 'city_and_gu', 'dong']\n",
      "add_gcl shape: (7, 4)\n",
      "\n",
      "add_bl columns: ['line', 'name', 'city_and_gu', 'dong']\n",
      "add_bl shape: (56, 4)\n",
      "\n",
      "add_sbl columns: ['line', 'name', 'city_and_gu', 'dong']\n",
      "add_sbl shape: (56, 4)\n",
      "\n",
      "add_ul columns: ['line', 'name', 'city_and_gu', 'dong']\n",
      "add_ul shape: (13, 4)\n"
     ]
    }
   ],
   "source": [
    "import pandas as pd\n",
    "\n",
    "# 데이터 처리 함수는 동일하게 유지\n",
    "def process_address(df):\n",
    "    # '구 ' 기준으로 분리\n",
    "    split_address = df['지번주소'].str.split('구 ', expand=True)\n",
    "    \n",
    "    # 구분된 데이터가 없는 경우 처리\n",
    "    df['city_and_gu'] = split_address[0].fillna('') + '구'\n",
    "    df['dong'] = split_address[1].fillna('')\n",
    "    \n",
    "    # 컬럼 이름 변경 및 불필요한 컬럼 제거\n",
    "    df = df.rename(columns={'선명': 'line', '역명': 'name'}).drop(columns=['지번주소'])\n",
    "    \n",
    "    return df\n",
    "\n",
    "# add_1_8을 제외하고 처리할 데이터프레임 리스트\n",
    "dfs_to_process = [add_gcl, add_bl, add_sbl, add_ul]\n",
    "\n",
    "# 데이터프레임 처리\n",
    "processed_dfs = [process_address(df) for df in dfs_to_process]\n",
    "\n",
    "# 결과를 기존 변수에 다시 저장\n",
    "add_gcl, add_bl, add_sbl, add_ul = processed_dfs\n",
    "\n",
    "# 처리 결과 확인\n",
    "for name, df in zip(['add_gcl', 'add_bl', 'add_sbl', 'add_ul'], processed_dfs):\n",
    "    print(f\"\\n{name} columns:\", list(df.columns))\n",
    "    print(f\"{name} shape:\", df.shape)"
   ]
  },
  {
   "cell_type": "code",
   "execution_count": 136,
   "metadata": {},
   "outputs": [
    {
     "name": "stdout",
     "output_type": "stream",
     "text": [
      "add_1_3_4_else columns: ['line', 'name', 'city_and_gu', 'dong']\n",
      "add_1_8 columns: ['line', 'name', 'city_and_gu', 'dong']\n",
      "add_1_9 columns: ['line', 'name', 'city_and_gu', 'dong']\n",
      "add_gcl columns: ['line', 'name', 'city_and_gu', 'dong']\n",
      "add_bl columns: ['line', 'name', 'city_and_gu', 'dong']\n",
      "add_sbl columns: ['line', 'name', 'city_and_gu', 'dong']\n",
      "add_ul columns: ['line', 'name', 'city_and_gu', 'dong']\n",
      "add_1_3_4_else 필터링 완료: 68행\n",
      "add_1_8 필터링 완료: 262행\n",
      "add_1_9 필터링 완료: 274행\n",
      "add_gcl 필터링 완료: 7행\n",
      "add_bl 필터링 완료: 14행\n",
      "add_sbl 필터링 완료: 14행\n",
      "add_ul 필터링 완료: 13행\n"
     ]
    }
   ],
   "source": [
    "# 각 데이터프레임의 컬럼 확인\n",
    "print(\"add_1_3_4_else columns:\", list(add_1_3_4_else.columns))\n",
    "print(\"add_1_8 columns:\", list(add_1_8.columns))\n",
    "print(\"add_1_9 columns:\", list(add_1_9.columns))\n",
    "print(\"add_gcl columns:\", list(add_gcl.columns))\n",
    "print(\"add_bl columns:\", list(add_bl.columns))\n",
    "print(\"add_sbl columns:\", list(add_sbl.columns))\n",
    "print(\"add_ul columns:\", list(add_ul.columns))\n",
    "\n",
    "# 조건에 맞게 필터링 (에러 처리 포함)\n",
    "def filter_seoul(df, name):\n",
    "    try:\n",
    "        if 'city_and_gu' in df.columns:\n",
    "            filtered_df = df[df['city_and_gu'].str.startswith('서울', na=False)]\n",
    "            print(f\"{name} 필터링 완료: {len(filtered_df)}행\")\n",
    "            return filtered_df\n",
    "        else:\n",
    "            print(f\"{name}에는 'city_and_gu' 컬럼이 없습니다\")\n",
    "            return df\n",
    "    except Exception as e:\n",
    "        print(f\"{name} 처리 중 에러 발생: {e}\")\n",
    "        return df\n",
    "\n",
    "# 각 데이터프레임 필터링\n",
    "add_1_3_4_else = filter_seoul(add_1_3_4_else, \"add_1_3_4_else\")\n",
    "add_1_8 = filter_seoul(add_1_8, \"add_1_8\")\n",
    "add_1_9 = filter_seoul(add_1_9, \"add_1_9\")\n",
    "add_gcl = filter_seoul(add_gcl, \"add_gcl\")\n",
    "add_bl = filter_seoul(add_bl, \"add_bl\")\n",
    "add_sbl = filter_seoul(add_sbl, \"add_sbl\")\n",
    "add_ul = filter_seoul(add_ul, \"add_ul\")"
   ]
  },
  {
   "cell_type": "code",
   "execution_count": 137,
   "metadata": {},
   "outputs": [
    {
     "name": "stdout",
     "output_type": "stream",
     "text": [
      "필터링 후 각 데이터프레임의 행 수:\n",
      "add_1_3_4_else: 68\n",
      "add_1_8: 262\n",
      "add_1_9: 274\n",
      "add_gcl: 7\n",
      "add_bl: 14\n",
      "add_sbl: 14\n",
      "add_ul: 13\n",
      "\n",
      "각 데이터프레임의 처음 몇 행 확인:\n",
      "\n",
      "add_1_3_4_else 샘플:\n",
      "  line name city_and_gu   dong\n",
      "0  1호선  영등포  서울특별시 영등포구   영등포동\n",
      "1  1호선  오류동     서울시 구로구    오류동\n",
      "4  1호선   온수     서울시 구로구    온수동\n",
      "6  1호선  외대앞  서울특별시 동대문구    이문동\n",
      "7  1호선   용산      서울 용산구  한강로3가\n"
     ]
    }
   ],
   "source": [
    "# 각 데이터프레임에서 '서울'로 시작하는 행만 필터링\n",
    "add_1_3_4_else = add_1_3_4_else[add_1_3_4_else['city_and_gu'].str.startswith('서울', na=False)]\n",
    "add_1_8 = add_1_8[add_1_8['city_and_gu'].str.startswith('서울', na=False)]\n",
    "add_1_9 = add_1_9[add_1_9['city_and_gu'].str.startswith('서울', na=False)]\n",
    "add_gcl = add_gcl[add_gcl['city_and_gu'].str.startswith('서울', na=False)]\n",
    "add_bl = add_bl[add_bl['city_and_gu'].str.startswith('서울', na=False)]\n",
    "add_sbl = add_sbl[add_sbl['city_and_gu'].str.startswith('서울', na=False)]\n",
    "add_ul = add_ul[add_ul['city_and_gu'].str.startswith('서울', na=False)]\n",
    "\n",
    "# 결과 확인\n",
    "print(\"필터링 후 각 데이터프레임의 행 수:\")\n",
    "print(\"add_1_3_4_else:\", len(add_1_3_4_else))\n",
    "print(\"add_1_8:\", len(add_1_8))\n",
    "print(\"add_1_9:\", len(add_1_9))\n",
    "print(\"add_gcl:\", len(add_gcl))\n",
    "print(\"add_bl:\", len(add_bl))\n",
    "print(\"add_sbl:\", len(add_sbl))\n",
    "print(\"add_ul:\", len(add_ul))\n",
    "\n",
    "# 샘플 데이터 확인 (선택사항)\n",
    "print(\"\\n각 데이터프레임의 처음 몇 행 확인:\")\n",
    "print(\"\\nadd_1_3_4_else 샘플:\")\n",
    "print(add_1_3_4_else.head())"
   ]
  },
  {
   "cell_type": "code",
   "execution_count": 138,
   "metadata": {},
   "outputs": [
    {
     "name": "stdout",
     "output_type": "stream",
     "text": [
      "dong이 NaN인 행의 수: 0\n",
      "dong이 NaN인 행의 수: 0\n",
      "\n",
      "NaN인 행들의 모든 정보:\n",
      "Empty DataFrame\n",
      "Columns: [line, name, city_and_gu, dong]\n",
      "Index: []\n"
     ]
    }
   ],
   "source": [
    "# dong이 NaN인 행들 찾기\n",
    "nan_dong = add_1_3_4_else[add_1_3_4_else['dong'].isna()]\n",
    "nan_dong2 = add_1_8[add_1_8['dong'].isna()]\n",
    "\n",
    "# 결과 출력\n",
    "print(\"dong이 NaN인 행의 수:\", len(nan_dong))\n",
    "print(\"dong이 NaN인 행의 수:\", len(nan_dong2))\n",
    "print(\"\\nNaN인 행들의 모든 정보:\")\n",
    "print(nan_dong)"
   ]
  },
  {
   "cell_type": "code",
   "execution_count": 139,
   "metadata": {},
   "outputs": [
    {
     "name": "stdout",
     "output_type": "stream",
     "text": [
      "최종 데이터프레임 크기: (340, 4)\n",
      "\n",
      "처음 10개 행:\n",
      "  line     name city_and_gu  dong\n",
      "0  1호선  가산디지털단지   서울특별시 금천구   가산동\n",
      "1  1호선       개봉   서울특별시 구로구   개보동\n",
      "2  1호선       구로   서울특별시 구로구   구로동\n",
      "3  1호선       구일     서울시 구로구  구로1동\n",
      "4  1호선     금천구청   서울특별시 금천구  시흥대로\n",
      "5  1호선       남영   서울특별시 용산구   갈월동\n",
      "6  1호선      노량진   서울특별시 동작구  노량진동\n",
      "7  1호선       녹천   서울특별시 도봉구    창동\n",
      "8  1호선       대방  서울특별시 영등포구   신길동\n",
      "9  1호선       도봉     서울시 도봉구  도봉2동\n",
      "\n",
      "각 컬럼의 null 값 개수:\n",
      "line           0\n",
      "name           0\n",
      "city_and_gu    0\n",
      "dong           0\n",
      "dtype: int64\n",
      "\n",
      "역명 당 행 개수:\n",
      "name\n",
      "가산디지털단지       1\n",
      "새절(신사)        1\n",
      "응암            1\n",
      "월드컵경기장(성산)    1\n",
      "월드컵경기장        1\n",
      "Name: count, dtype: int64\n"
     ]
    }
   ],
   "source": [
    "# 첫 번째: 모든 데이터프레임 합치기\n",
    "combined_df = pd.concat([add_1_3_4_else, add_1_8, add_1_9, add_gcl, add_bl, add_sbl, add_ul])\n",
    "\n",
    "# 두 번째: name을 기준으로 중복 제거하되, 첫 번째 발견된 값 유지\n",
    "final_df = combined_df.drop_duplicates(subset=['name'])\n",
    "\n",
    "# 결과 정렬 (필요한 경우)\n",
    "final_df = final_df.sort_values(['line', 'name']).reset_index(drop=True)\n",
    "\n",
    "# 결과 확인\n",
    "print(\"최종 데이터프레임 크기:\", final_df.shape)\n",
    "print(\"\\n처음 10개 행:\")\n",
    "print(final_df.head(10))\n",
    "\n",
    "# 컬럼별 null 값 확인\n",
    "print(\"\\n각 컬럼의 null 값 개수:\")\n",
    "print(final_df.isnull().sum())\n",
    "\n",
    "# 중복 확인\n",
    "print(\"\\n역명 당 행 개수:\")\n",
    "print(final_df['name'].value_counts().head())"
   ]
  },
  {
   "cell_type": "markdown",
   "metadata": {},
   "source": []
  },
  {
   "cell_type": "code",
   "execution_count": null,
   "metadata": {},
   "outputs": [],
   "source": []
  },
  {
   "cell_type": "code",
   "execution_count": null,
   "metadata": {},
   "outputs": [],
   "source": [
    "add_1_3_4_else\n",
    "add_1_8\n",
    "add_1_9\n",
    "add_gcl\n",
    "add_bl\n",
    "add_sbl\n",
    "add_ul"
   ]
  },
  {
   "cell_type": "code",
   "execution_count": null,
   "metadata": {},
   "outputs": [],
   "source": [
    "station_2015\n",
    "station_2016\n",
    "station_2017\n",
    "station_2018\n",
    "station_2019\n",
    "station_2020\n",
    "station_2021\n",
    "station_2022\n",
    "station_2023\n",
    "station_2024"
   ]
  },
  {
   "cell_type": "code",
   "execution_count": null,
   "metadata": {},
   "outputs": [],
   "source": []
  }
 ],
 "metadata": {
  "kernelspec": {
   "display_name": "myenv",
   "language": "python",
   "name": "python3"
  },
  "language_info": {
   "codemirror_mode": {
    "name": "ipython",
    "version": 3
   },
   "file_extension": ".py",
   "mimetype": "text/x-python",
   "name": "python",
   "nbconvert_exporter": "python",
   "pygments_lexer": "ipython3",
   "version": "3.9.20"
  }
 },
 "nbformat": 4,
 "nbformat_minor": 2
}
