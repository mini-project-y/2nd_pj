{
 "cells": [
  {
   "cell_type": "code",
   "execution_count": 2,
   "metadata": {},
   "outputs": [],
   "source": [
    "import pandas as pd\n",
    "from sklearn.feature_extraction.text import TfidfVectorizer\n",
    "from sklearn.model_selection import train_test_split\n",
    "from sklearn.ensemble import RandomForestRegressor\n",
    "from sklearn.metrics import mean_squared_error"
   ]
  },
  {
   "cell_type": "code",
   "execution_count": null,
   "metadata": {},
   "outputs": [],
   "source": [
    "# CSV 파일을 특정 인코딩으로 읽기 (예: EUC-KR)\n",
    "# df = pd.read_csv('서울시 고등학교 기본정보.csv', encoding='euc-kr')\n",
    "\n",
    "# 다른 인코딩으로 저장하기 (예: UTF-8)\n",
    "# df.to_csv('high.csv', encoding='utf-8', index=False)\n"
   ]
  },
  {
   "cell_type": "code",
   "execution_count": null,
   "metadata": {},
   "outputs": [],
   "source": [
    "# CSV 파일을 특정 인코딩으로 읽기 (예: EUC-KR)\n",
    "# df = pd.read_csv('서울시 학교 기본정보.csv', encoding='euc-kr')\n",
    "\n",
    "# 다른 인코딩으로 저장하기 (예: UTF-8)\n",
    "# df.to_csv('middle.csv', encoding='utf-8', index=False)\n"
   ]
  },
  {
   "cell_type": "code",
   "execution_count": 2,
   "metadata": {},
   "outputs": [],
   "source": [
    "# CSV 파일을 특정 인코딩으로 읽기 (예: EUC-KR)\n",
    "df = pd.read_csv('서울시 대학.csv', encoding='euc-kr')\n",
    "\n",
    "# 다른 인코딩으로 저장하기 (예: UTF-8)\n",
    "df.to_csv('university.csv', encoding='utf-8', index=False)\n"
   ]
  },
  {
   "cell_type": "code",
   "execution_count": 7,
   "metadata": {},
   "outputs": [
    {
     "name": "stdout",
     "output_type": "stream",
     "text": [
      "Collecting chardet\n",
      "  Downloading chardet-5.2.0-py3-none-any.whl.metadata (3.4 kB)\n",
      "Downloading chardet-5.2.0-py3-none-any.whl (199 kB)\n",
      "Installing collected packages: chardet\n",
      "Successfully installed chardet-5.2.0\n"
     ]
    }
   ],
   "source": [
    "! pip install chardet"
   ]
  },
  {
   "cell_type": "code",
   "execution_count": 8,
   "metadata": {},
   "outputs": [
    {
     "name": "stdout",
     "output_type": "stream",
     "text": [
      "{'encoding': 'CP949', 'confidence': 0.99, 'language': 'Korean'}\n"
     ]
    }
   ],
   "source": [
    "import chardet\n",
    "\n",
    "# 파일의 인코딩 확인\n",
    "with open('서울시 병의원 위치 정보.csv', 'rb') as f:\n",
    "    result = chardet.detect(f.read())\n",
    "    print(result)  # {'encoding': 'EUC-KR', 'confidence': 0.99, ...}\n"
   ]
  },
  {
   "cell_type": "code",
   "execution_count": 10,
   "metadata": {},
   "outputs": [],
   "source": [
    "df = pd.read_csv('서울시 병의원 위치 정보.csv', encoding='CP949')\n",
    "\n",
    "df.to_csv('hospital.csv', encoding='utf-8', index=False)"
   ]
  }
 ],
 "metadata": {
  "kernelspec": {
   "display_name": "human-da-env",
   "language": "python",
   "name": "python3"
  },
  "language_info": {
   "codemirror_mode": {
    "name": "ipython",
    "version": 3
   },
   "file_extension": ".py",
   "mimetype": "text/x-python",
   "name": "python",
   "nbconvert_exporter": "python",
   "pygments_lexer": "ipython3",
   "version": "3.12.7"
  }
 },
 "nbformat": 4,
 "nbformat_minor": 2
}
