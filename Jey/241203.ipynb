{
 "cells": [
  {
   "cell_type": "code",
   "execution_count": 1,
   "metadata": {},
   "outputs": [
    {
     "name": "stdout",
     "output_type": "stream",
     "text": [
      "True\n"
     ]
    }
   ],
   "source": [
    "import pandas as pd\n",
    "\n",
    "# CSV 파일 읽어오기\n",
    "df = pd.read_csv('final_apt_bank.csv')\n",
    "\n",
    "# NaN 값 확인하는 다양한 방법\n",
    "# 1. 전체 DataFrame에서 NaN 값이 있는지 확인\n",
    "print(df.isnull().values.any())  # True or False"
   ]
  },
  {
   "cell_type": "code",
   "execution_count": 2,
   "metadata": {},
   "outputs": [
    {
     "name": "stdout",
     "output_type": "stream",
     "text": [
      "NO                               0\n",
      "contract_date                    0\n",
      "gu                               0\n",
      "a_dong                           0\n",
      "l_dong                           0\n",
      "gu_adong                         0\n",
      "gu_ldong                         0\n",
      "latitude                         0\n",
      "longitude                        0\n",
      "adong_prev_1_month               0\n",
      "adong_prev_3_months              0\n",
      "adong_prev_6_months              0\n",
      "ldong_prev_1_month               0\n",
      "ldong_prev_3_months              0\n",
      "ldong_prev_6_months              0\n",
      "closest_bus_stop_dist_km         0\n",
      "bus_stop_score                   0\n",
      "closest_park_dist_km             0\n",
      "park_score                       0\n",
      "closest_hospital_dist_km         0\n",
      "hospital_score                   0\n",
      "closest_school_dist_km           0\n",
      "school_score                     0\n",
      "closest_station_dist_km          0\n",
      "station_score                    0\n",
      "exclusive_area_m2                0\n",
      "floor                            0\n",
      "brand_label_encoded              0\n",
      "Q_1                              0\n",
      "Q_2                              0\n",
      "Q_3                              0\n",
      "Q_4                              0\n",
      "apt_age                          0\n",
      "USD_exchange_rate                0\n",
      "CNY_exchange_rate                0\n",
      "JPY_exchange_rate                0\n",
      "K_progressive_president          0\n",
      "K_conservative_president         0\n",
      "A_progressive_president          0\n",
      "A_conservative_president         0\n",
      "A_progressive_senate             0\n",
      "A_conservative_senate            0\n",
      "A_progressive_house              0\n",
      "A_conservative_house             0\n",
      "pyeong_price                     0\n",
      "adjusted_price                   0\n",
      "year                             0\n",
      "population_density               0\n",
      "한국은행 기준금리                        0\n",
      "정부대출금금리                          0\n",
      "총액한도대출금리                    173507\n",
      "dtype: int64\n"
     ]
    }
   ],
   "source": [
    "# 2. 각 열별 NaN 값 개수 확인\n",
    "print(df.isnull().sum())"
   ]
  }
 ],
 "metadata": {
  "kernelspec": {
   "display_name": "human-da-env",
   "language": "python",
   "name": "python3"
  },
  "language_info": {
   "codemirror_mode": {
    "name": "ipython",
    "version": 3
   },
   "file_extension": ".py",
   "mimetype": "text/x-python",
   "name": "python",
   "nbconvert_exporter": "python",
   "pygments_lexer": "ipython3",
   "version": "3.12.7"
  }
 },
 "nbformat": 4,
 "nbformat_minor": 2
}
