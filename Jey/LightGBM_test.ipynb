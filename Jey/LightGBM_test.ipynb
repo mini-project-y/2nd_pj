{
 "cells": [
  {
   "cell_type": "code",
   "execution_count": 2,
   "metadata": {},
   "outputs": [],
   "source": [
    "import pandas as pd\n",
    "import lightgbm as lgb\n",
    "from sklearn.model_selection import train_test_split\n",
    "from sklearn.metrics import mean_absolute_error, mean_squared_error\n",
    "\n",
    "# 데이터 불러오기 (예시: pandas DataFrame)\n",
    "data = pd.read_csv('apt_all_numeric_information.csv')\n",
    "\n",
    "# 데이터 준비\n",
    "X = data.drop(columns=['adjusted_price', 'NO'])  # 입력 변수\n",
    "y = data['adjusted_price']                       # 목표 변수\n",
    "\n",
    "# 데이터셋 나누기: 학습용(train), 검증용(valid), 테스트용(test)\n",
    "train_X, temp_X, train_y, temp_y = train_test_split(X, y, test_size=0.3, random_state=42)  # train: 70%, temp: 30%\n",
    "valid_X, test_X, valid_y, test_y = train_test_split(temp_X, temp_y, test_size=0.5, random_state=42)  # valid: 15%, test: 15%\n",
    "\n",
    "# LightGBM 데이터셋 생성\n",
    "train_data = lgb.Dataset(train_X, label=train_y)\n",
    "valid_data = lgb.Dataset(valid_X, label=valid_y)\n",
    "\n",
    "# LightGBM 하이퍼파라미터 설정\n",
    "params = {\n",
    "    'objective': 'regression',  # 회귀 문제\n",
    "    'metric': 'rmse',          # 평가 지표\n",
    "    'boosting_type': 'gbdt',   # 부스팅 방식\n",
    "    'num_leaves': 31,          # 하나의 트리에서 가질 수 있는 최대 잎 노드 수\n",
    "    'learning_rate': 0.05,     # 학습률\n",
    "    'feature_fraction': 0.9    # 학습에 사용할 피처 비율\n",
    "}"
   ]
  },
  {
   "cell_type": "code",
   "execution_count": 5,
   "metadata": {},
   "outputs": [
    {
     "ename": "AttributeError",
     "evalue": "module 'lightgbm' has no attribute 'test'",
     "output_type": "error",
     "traceback": [
      "\u001b[1;31m---------------------------------------------------------------------------\u001b[0m",
      "\u001b[1;31mAttributeError\u001b[0m                            Traceback (most recent call last)",
      "Cell \u001b[1;32mIn[5], line 2\u001b[0m\n\u001b[0;32m      1\u001b[0m \u001b[38;5;66;03m# LightGBM 모델 학습\u001b[39;00m\n\u001b[1;32m----> 2\u001b[0m model \u001b[38;5;241m=\u001b[39m \u001b[43mlgb\u001b[49m\u001b[38;5;241;43m.\u001b[39;49m\u001b[43mtest\u001b[49m(\n\u001b[0;32m      3\u001b[0m     params,\n\u001b[0;32m      4\u001b[0m     train_data,\n\u001b[0;32m      5\u001b[0m     valid_sets\u001b[38;5;241m=\u001b[39m[train_data, valid_data],  \u001b[38;5;66;03m# 학습 데이터와 검증 데이터\u001b[39;00m\n\u001b[0;32m      6\u001b[0m     num_boost_round\u001b[38;5;241m=\u001b[39m\u001b[38;5;241m1000\u001b[39m,\n\u001b[0;32m      7\u001b[0m     early_stopping_rounds\u001b[38;5;241m=\u001b[39m\u001b[38;5;241m50\u001b[39m,            \u001b[38;5;66;03m# 조기 종료 조건\u001b[39;00m\n\u001b[0;32m      8\u001b[0m     verbose_eval\u001b[38;5;241m=\u001b[39m\u001b[38;5;241m100\u001b[39m                     \u001b[38;5;66;03m# 로그 출력 주기\u001b[39;00m\n\u001b[0;32m      9\u001b[0m )\n\u001b[0;32m     11\u001b[0m \u001b[38;5;66;03m# 테스트 데이터에서 예측 수행\u001b[39;00m\n\u001b[0;32m     12\u001b[0m y_test_pred \u001b[38;5;241m=\u001b[39m model\u001b[38;5;241m.\u001b[39mpredict(test_X, num_iteration\u001b[38;5;241m=\u001b[39mmodel\u001b[38;5;241m.\u001b[39mbest_iteration)\n",
      "\u001b[1;31mAttributeError\u001b[0m: module 'lightgbm' has no attribute 'test'"
     ]
    }
   ],
   "source": [
    "\n",
    "# LightGBM 모델 학습\n",
    "model = lgb.test(\n",
    "    params,\n",
    "    train_data,\n",
    "    valid_sets=[train_data, valid_data],  # 학습 데이터와 검증 데이터\n",
    "    num_boost_round=1000,\n",
    "    early_stopping_rounds=50,            # 조기 종료 조건\n",
    "    verbose_eval=100                     # 로그 출력 주기\n",
    ")\n",
    "\n",
    "# 테스트 데이터에서 예측 수행\n",
    "y_test_pred = model.predict(test_X, num_iteration=model.best_iteration)\n",
    "\n",
    "# 평가 지표 계산\n",
    "rmse_test = root_mean_squared_error(test_y, y_test_pred, squared=False)  # RMSE\n",
    "mae_test = mean_absolute_error(test_y, y_test_pred)                # MAE\n",
    "\n",
    "print(\"Test RMSE:\", rmse_test)\n",
    "print(\"Test MAE:\", mae_test)\n"
   ]
  }
 ],
 "metadata": {
  "kernelspec": {
   "display_name": "human-da-env",
   "language": "python",
   "name": "python3"
  },
  "language_info": {
   "codemirror_mode": {
    "name": "ipython",
    "version": 3
   },
   "file_extension": ".py",
   "mimetype": "text/x-python",
   "name": "python",
   "nbconvert_exporter": "python",
   "pygments_lexer": "ipython3",
   "version": "3.12.7"
  }
 },
 "nbformat": 4,
 "nbformat_minor": 2
}
