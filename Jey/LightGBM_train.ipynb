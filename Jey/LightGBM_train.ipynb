{
 "cells": [
  {
   "cell_type": "code",
   "execution_count": null,
   "metadata": {},
   "outputs": [],
   "source": [
    "# pip install lightgbm"
   ]
  },
  {
   "cell_type": "code",
   "execution_count": 26,
   "metadata": {},
   "outputs": [],
   "source": [
    "import pandas as pd\n",
    "import numpy as np\n",
    "import lightgbm as lgb\n",
    "from sklearn.model_selection import train_test_split"
   ]
  },
  {
   "cell_type": "code",
   "execution_count": 39,
   "metadata": {},
   "outputs": [],
   "source": [
    "from sklearn.metrics import mean_squared_error"
   ]
  },
  {
   "cell_type": "code",
   "execution_count": 54,
   "metadata": {},
   "outputs": [],
   "source": [
    "# 데이터 불러오기 (예시: pandas DataFrame)\n",
    "data = pd.read_csv('apt_all_numeric_information.csv')\n",
    "X = data.drop(columns = ['adjusted_price', 'NO'])\n",
    "y = data['adjusted_price']\n",
    "train_X, valid_X, train_y, valid_y = train_test_split(X, y, test_size=0.2, random_state=42)"
   ]
  },
  {
   "cell_type": "code",
   "execution_count": 59,
   "metadata": {},
   "outputs": [],
   "source": [
    "# LightGBM 데이터셋 생성\n",
    "train_data = lgb.Dataset(train_X, label=train_y)\n",
    "valid_data = lgb.Dataset(valid_X, label=valid_y)\n"
   ]
  },
  {
   "cell_type": "code",
   "execution_count": 60,
   "metadata": {},
   "outputs": [],
   "source": [
    "params = {\n",
    "    'objective': 'regression',  # 회귀 문제\n",
    "    'metric': 'rmse',          # 평가 지표\n",
    "    'boosting_type': 'gbdt',   # 부스팅 방식 (gbdt, dart, goss)\n",
    "    'num_leaves': 31,          # 하나의 트리에서 가질 수 있는 최대 잎 노드 수\n",
    "    'learning_rate': 0.05,     # 학습률\n",
    "    'feature_fraction': 0.9    # 학습에 사용할 피처 비율\n",
    "}\n"
   ]
  },
  {
   "cell_type": "code",
   "execution_count": 62,
   "metadata": {},
   "outputs": [
    {
     "name": "stdout",
     "output_type": "stream",
     "text": [
      "[LightGBM] [Info] Auto-choosing col-wise multi-threading, the overhead of testing was 0.039905 seconds.\n",
      "You can set `force_col_wise=true` to remove the overhead.\n",
      "[LightGBM] [Info] Total Bins 7228\n",
      "[LightGBM] [Info] Number of data points in the train set: 200876, number of used features: 46\n",
      "[LightGBM] [Info] Start training from score 97548.068575\n"
     ]
    }
   ],
   "source": [
    "# LightGBM 모델 학습\n",
    "model = lgb.train(\n",
    "    params, \n",
    "    train_data, \n",
    "    valid_sets=[train_data, valid_data],  # 학습 데이터와 검증 데이터\n",
    "    num_boost_round=1000,                # 부스팅 반복 횟수\n",
    "            # 조기 종료 조건\n",
    "                  # 로그 출력 주기\n",
    ")\n",
    "\n"
   ]
  },
  {
   "cell_type": "code",
   "execution_count": 63,
   "metadata": {},
   "outputs": [],
   "source": [
    "y_pred = gbm.predict(X, num_iteration=gbm.best_iteration)"
   ]
  },
  {
   "cell_type": "code",
   "execution_count": null,
   "metadata": {},
   "outputs": [
    {
     "data": {
      "text/plain": [
       "194880     56473.540\n",
       "158706     42854.400\n",
       "24470      38527.234\n",
       "72791      49350.754\n",
       "44061      65950.555\n",
       "             ...    \n",
       "39576     220956.780\n",
       "188158     42484.680\n",
       "173017    140717.550\n",
       "114877     94302.000\n",
       "123784    117180.000\n",
       "Name: adjusted_price, Length: 50220, dtype: float64"
      ]
     },
     "execution_count": 67,
     "metadata": {},
     "output_type": "execute_result"
    }
   ],
   "source": [
    "y_"
   ]
  },
  {
   "cell_type": "code",
   "execution_count": 72,
   "metadata": {},
   "outputs": [
    {
     "name": "stdout",
     "output_type": "stream",
     "text": [
      "RMSE: 19240.09727319971 MAE:  12664.379276876549\n"
     ]
    }
   ],
   "source": [
    "from sklearn.metrics import mean_absolute_error, root_mean_squared_error\n",
    "rmse = root_mean_squared_error(y_pred, y)\n",
    "mae = mean_absolute_error(y_pred, y)\n",
    "print(\"RMSE:\", rmse, \"MAE: \", mae)"
   ]
  },
  {
   "cell_type": "code",
   "execution_count": 75,
   "metadata": {},
   "outputs": [
    {
     "data": {
      "text/plain": [
       "(np.float64(6056.6836),\n",
       " np.float64(1800000.0),\n",
       " np.float64(97640.59198013428),\n",
       " np.float64(0.13))"
      ]
     },
     "execution_count": 75,
     "metadata": {},
     "output_type": "execute_result"
    }
   ],
   "source": [
    "y.min(), y.max(), y.mean(), np.round(mae / y.mean(), 3)"
   ]
  },
  {
   "cell_type": "code",
   "execution_count": null,
   "metadata": {},
   "outputs": [],
   "source": [
    "import pandas as pd\n",
    "import numpy as np\n",
    "import lightgbm as lgb\n",
    "from sklearn.model_selection import train_test_split\n",
    "from sklearn.metrics import mean_squared_error\n",
    "\n",
    "# 데이터 불러오기 (예시: pandas DataFrame)\n",
    "data = pd.read_csv('apt_all_numeric_information.csv')\n",
    "X = data.drop(columns = ['adjusted_price', 'NO'])\n",
    "y = data['adjusted_price']\n",
    "train_X, valid_X, train_y, valid_y = train_test_split(X, y, test_size=0.2, random_state=42)\n",
    "\n",
    "# LightGBM 데이터셋 생성\n",
    "train_data = lgb.Dataset(train_X, label=train_y)\n",
    "valid_data = lgb.Dataset(valid_X, label=valid_y)\n",
    "\n",
    "params = {\n",
    "    'objective': 'regression',  # 회귀 문제\n",
    "    'metric': 'rmse',          # 평가 지표\n",
    "    'boosting_type': 'gbdt',   # 부스팅 방식 (gbdt, dart, goss)\n",
    "    'num_leaves': 31,          # 하나의 트리에서 가질 수 있는 최대 잎 노드 수\n",
    "    'learning_rate': 0.05,     # 학습률\n",
    "    'feature_fraction': 0.9    # 학습에 사용할 피처 비율\n",
    "}\n",
    "\n",
    "# LightGBM 모델 학습\n",
    "model = lgb.train(\n",
    "    params, \n",
    "    train_data, \n",
    "    valid_sets=[train_data, valid_data],  # 학습 데이터와 검증 데이터\n",
    "    num_boost_round=1000,                # 부스팅 반복 횟수\n",
    "            # 조기 종료 조건\n",
    "                  # 로그 출력 주기\n",
    ")\n",
    "\n",
    "y_pred = gbm.predict(X, num_iteration=gbm.best_iteration)\n",
    "\n",
    "from sklearn.metrics import mean_absolute_error, root_mean_squared_error\n",
    "rmse = root_mean_squared_error(y_pred, y)\n",
    "mae = mean_absolute_error(y_pred, y)\n",
    "print(\"RMSE:\", rmse, \"MAE: \", mae)\n",
    "\n",
    "위 코드가 훈련인지 테스트인지 궁금해"
   ]
  }
 ],
 "metadata": {
  "kernelspec": {
   "display_name": "human-da-env",
   "language": "python",
   "name": "python3"
  },
  "language_info": {
   "codemirror_mode": {
    "name": "ipython",
    "version": 3
   },
   "file_extension": ".py",
   "mimetype": "text/x-python",
   "name": "python",
   "nbconvert_exporter": "python",
   "pygments_lexer": "ipython3",
   "version": "3.12.7"
  }
 },
 "nbformat": 4,
 "nbformat_minor": 2
}
