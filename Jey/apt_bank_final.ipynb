{
 "cells": [
  {
   "cell_type": "code",
   "execution_count": 1,
   "metadata": {},
   "outputs": [],
   "source": [
    "import pandas as pd"
   ]
  },
  {
   "cell_type": "code",
   "execution_count": 3,
   "metadata": {},
   "outputs": [],
   "source": [
    "df = pd.read_csv('bank.final.csv', encoding='euc-kr')\n",
    "\n",
    "# 다른 인코딩으로 저장하기 (예: UTF-8)\n",
    "df.to_csv('bank1.csv', encoding='utf-8', index=False)"
   ]
  },
  {
   "cell_type": "code",
   "execution_count": null,
   "metadata": {},
   "outputs": [],
   "source": [
    "# CSV 파일 읽기\n",
    "df1 = pd.read_csv('apt.csv')  # 첫 번째 CSV 파일\n",
    "df2 = pd.read_csv('bank1.csv')  # 두 번째 CSV 파일\n",
    "\n",
    "# 공통 열(컬럼)을 기준으로 병합 (예: 'id' 열을 기준으로)\n",
    "merged_df = pd.merge(df1, df2, on='contract_date', how='inner')  # how 옵션은 'inner', 'outer', 'left', 'right' 중 선택 가능\n",
    "\n",
    "# 병합된 데이터 저장\n",
    "merged_df.to_csv('final_apt_bank.csv', index=False)"
   ]
  }
 ],
 "metadata": {
  "kernelspec": {
   "display_name": "human-da-env",
   "language": "python",
   "name": "python3"
  },
  "language_info": {
   "codemirror_mode": {
    "name": "ipython",
    "version": 3
   },
   "file_extension": ".py",
   "mimetype": "text/x-python",
   "name": "python",
   "nbconvert_exporter": "python",
   "pygments_lexer": "ipython3",
   "version": "3.12.7"
  }
 },
 "nbformat": 4,
 "nbformat_minor": 2
}
